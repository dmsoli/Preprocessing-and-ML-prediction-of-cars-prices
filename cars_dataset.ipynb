{
  "nbformat": 4,
  "nbformat_minor": 0,
  "metadata": {
    "colab": {
      "name": "cars_dataset",
      "provenance": []
    },
    "kernelspec": {
      "name": "python3",
      "display_name": "Python 3"
    },
    "language_info": {
      "name": "python"
    }
  },
  "cells": [
    {
      "cell_type": "markdown",
      "source": [
        "The objective of this project is to develop a model that will be able to predict the cars prices. To do so, first we are gonna clean the dataset and predict the prices using diffent algoritms until we find the one with the best performance. Let's get it started!"
      ],
      "metadata": {
        "id": "9yF11o1zp3_K"
      }
    },
    {
      "cell_type": "markdown",
      "source": [
        "**1 - Import and take a quick look at the data**"
      ],
      "metadata": {
        "id": "zVmXnZtvkN89"
      }
    },
    {
      "cell_type": "code",
      "execution_count": 195,
      "metadata": {
        "id": "6BfMy53ThPGD",
        "colab": {
          "base_uri": "https://localhost:8080/"
        },
        "outputId": "1e68509e-5b47-4c67-af05-d22100f929db"
      },
      "outputs": [
        {
          "output_type": "stream",
          "name": "stdout",
          "text": [
            "<class 'pandas.core.frame.DataFrame'>\n",
            "Int64Index: 6019 entries, 0 to 6018\n",
            "Data columns (total 13 columns):\n",
            " #   Column             Non-Null Count  Dtype  \n",
            "---  ------             --------------  -----  \n",
            " 0   Name               6019 non-null   object \n",
            " 1   Location           6019 non-null   object \n",
            " 2   Year               6019 non-null   int64  \n",
            " 3   Kilometers_Driven  6019 non-null   int64  \n",
            " 4   Fuel_Type          6019 non-null   object \n",
            " 5   Transmission       6019 non-null   object \n",
            " 6   Owner_Type         6019 non-null   object \n",
            " 7   Mileage            6017 non-null   object \n",
            " 8   Engine             5983 non-null   object \n",
            " 9   Power              5983 non-null   object \n",
            " 10  Seats              5977 non-null   float64\n",
            " 11  New_Price          824 non-null    object \n",
            " 12  Price              6019 non-null   float64\n",
            "dtypes: float64(2), int64(2), object(9)\n",
            "memory usage: 658.3+ KB\n"
          ]
        }
      ],
      "source": [
        "import pandas as pd\n",
        "cars = pd.read_csv('train-data.csv', index_col = 0)\n",
        "cars.info()"
      ]
    },
    {
      "cell_type": "code",
      "source": [
        "print(cars.head())"
      ],
      "metadata": {
        "colab": {
          "base_uri": "https://localhost:8080/"
        },
        "id": "8T4u6Onq6vcp",
        "outputId": "15f6f2dc-69a2-4ba6-c912-be6ed18077f9"
      },
      "execution_count": 196,
      "outputs": [
        {
          "output_type": "stream",
          "name": "stdout",
          "text": [
            "                               Name    Location  Year  ...  Seats  New_Price  Price\n",
            "0            Maruti Wagon R LXI CNG      Mumbai  2010  ...    5.0        NaN   1.75\n",
            "1  Hyundai Creta 1.6 CRDi SX Option        Pune  2015  ...    5.0        NaN  12.50\n",
            "2                      Honda Jazz V     Chennai  2011  ...    5.0  8.61 Lakh   4.50\n",
            "3                 Maruti Ertiga VDI     Chennai  2012  ...    7.0        NaN   6.00\n",
            "4   Audi A4 New 2.0 TDI Multitronic  Coimbatore  2013  ...    5.0        NaN  17.74\n",
            "\n",
            "[5 rows x 13 columns]\n"
          ]
        }
      ]
    },
    {
      "cell_type": "code",
      "source": [
        "# converting the columns' titles to lowercase letters to ease the coding\n",
        "cars.rename(columns = str.lower, inplace = True) \n",
        "cars.head()"
      ],
      "metadata": {
        "id": "PDTWkblQSV2q",
        "colab": {
          "base_uri": "https://localhost:8080/",
          "height": 424
        },
        "outputId": "30eb2231-c355-44ee-ac5f-f703491f74a5"
      },
      "execution_count": 198,
      "outputs": [
        {
          "output_type": "execute_result",
          "data": {
            "text/html": [
              "\n",
              "  <div id=\"df-578f21b5-4eee-41d3-8026-562c9dcaf0c5\">\n",
              "    <div class=\"colab-df-container\">\n",
              "      <div>\n",
              "<style scoped>\n",
              "    .dataframe tbody tr th:only-of-type {\n",
              "        vertical-align: middle;\n",
              "    }\n",
              "\n",
              "    .dataframe tbody tr th {\n",
              "        vertical-align: top;\n",
              "    }\n",
              "\n",
              "    .dataframe thead th {\n",
              "        text-align: right;\n",
              "    }\n",
              "</style>\n",
              "<table border=\"1\" class=\"dataframe\">\n",
              "  <thead>\n",
              "    <tr style=\"text-align: right;\">\n",
              "      <th></th>\n",
              "      <th>name</th>\n",
              "      <th>location</th>\n",
              "      <th>year</th>\n",
              "      <th>kilometers_driven</th>\n",
              "      <th>fuel_type</th>\n",
              "      <th>transmission</th>\n",
              "      <th>owner_type</th>\n",
              "      <th>mileage</th>\n",
              "      <th>engine</th>\n",
              "      <th>power</th>\n",
              "      <th>seats</th>\n",
              "      <th>new_price</th>\n",
              "      <th>price</th>\n",
              "    </tr>\n",
              "  </thead>\n",
              "  <tbody>\n",
              "    <tr>\n",
              "      <th>0</th>\n",
              "      <td>Maruti Wagon R LXI CNG</td>\n",
              "      <td>Mumbai</td>\n",
              "      <td>2010</td>\n",
              "      <td>72000</td>\n",
              "      <td>CNG</td>\n",
              "      <td>Manual</td>\n",
              "      <td>First</td>\n",
              "      <td>26.6 km/kg</td>\n",
              "      <td>998 CC</td>\n",
              "      <td>58.16 bhp</td>\n",
              "      <td>5.0</td>\n",
              "      <td>NaN</td>\n",
              "      <td>1.75</td>\n",
              "    </tr>\n",
              "    <tr>\n",
              "      <th>1</th>\n",
              "      <td>Hyundai Creta 1.6 CRDi SX Option</td>\n",
              "      <td>Pune</td>\n",
              "      <td>2015</td>\n",
              "      <td>41000</td>\n",
              "      <td>Diesel</td>\n",
              "      <td>Manual</td>\n",
              "      <td>First</td>\n",
              "      <td>19.67 kmpl</td>\n",
              "      <td>1582 CC</td>\n",
              "      <td>126.2 bhp</td>\n",
              "      <td>5.0</td>\n",
              "      <td>NaN</td>\n",
              "      <td>12.50</td>\n",
              "    </tr>\n",
              "    <tr>\n",
              "      <th>2</th>\n",
              "      <td>Honda Jazz V</td>\n",
              "      <td>Chennai</td>\n",
              "      <td>2011</td>\n",
              "      <td>46000</td>\n",
              "      <td>Petrol</td>\n",
              "      <td>Manual</td>\n",
              "      <td>First</td>\n",
              "      <td>18.2 kmpl</td>\n",
              "      <td>1199 CC</td>\n",
              "      <td>88.7 bhp</td>\n",
              "      <td>5.0</td>\n",
              "      <td>8.61 Lakh</td>\n",
              "      <td>4.50</td>\n",
              "    </tr>\n",
              "    <tr>\n",
              "      <th>3</th>\n",
              "      <td>Maruti Ertiga VDI</td>\n",
              "      <td>Chennai</td>\n",
              "      <td>2012</td>\n",
              "      <td>87000</td>\n",
              "      <td>Diesel</td>\n",
              "      <td>Manual</td>\n",
              "      <td>First</td>\n",
              "      <td>20.77 kmpl</td>\n",
              "      <td>1248 CC</td>\n",
              "      <td>88.76 bhp</td>\n",
              "      <td>7.0</td>\n",
              "      <td>NaN</td>\n",
              "      <td>6.00</td>\n",
              "    </tr>\n",
              "    <tr>\n",
              "      <th>4</th>\n",
              "      <td>Audi A4 New 2.0 TDI Multitronic</td>\n",
              "      <td>Coimbatore</td>\n",
              "      <td>2013</td>\n",
              "      <td>40670</td>\n",
              "      <td>Diesel</td>\n",
              "      <td>Automatic</td>\n",
              "      <td>Second</td>\n",
              "      <td>15.2 kmpl</td>\n",
              "      <td>1968 CC</td>\n",
              "      <td>140.8 bhp</td>\n",
              "      <td>5.0</td>\n",
              "      <td>NaN</td>\n",
              "      <td>17.74</td>\n",
              "    </tr>\n",
              "  </tbody>\n",
              "</table>\n",
              "</div>\n",
              "      <button class=\"colab-df-convert\" onclick=\"convertToInteractive('df-578f21b5-4eee-41d3-8026-562c9dcaf0c5')\"\n",
              "              title=\"Convert this dataframe to an interactive table.\"\n",
              "              style=\"display:none;\">\n",
              "        \n",
              "  <svg xmlns=\"http://www.w3.org/2000/svg\" height=\"24px\"viewBox=\"0 0 24 24\"\n",
              "       width=\"24px\">\n",
              "    <path d=\"M0 0h24v24H0V0z\" fill=\"none\"/>\n",
              "    <path d=\"M18.56 5.44l.94 2.06.94-2.06 2.06-.94-2.06-.94-.94-2.06-.94 2.06-2.06.94zm-11 1L8.5 8.5l.94-2.06 2.06-.94-2.06-.94L8.5 2.5l-.94 2.06-2.06.94zm10 10l.94 2.06.94-2.06 2.06-.94-2.06-.94-.94-2.06-.94 2.06-2.06.94z\"/><path d=\"M17.41 7.96l-1.37-1.37c-.4-.4-.92-.59-1.43-.59-.52 0-1.04.2-1.43.59L10.3 9.45l-7.72 7.72c-.78.78-.78 2.05 0 2.83L4 21.41c.39.39.9.59 1.41.59.51 0 1.02-.2 1.41-.59l7.78-7.78 2.81-2.81c.8-.78.8-2.07 0-2.86zM5.41 20L4 18.59l7.72-7.72 1.47 1.35L5.41 20z\"/>\n",
              "  </svg>\n",
              "      </button>\n",
              "      \n",
              "  <style>\n",
              "    .colab-df-container {\n",
              "      display:flex;\n",
              "      flex-wrap:wrap;\n",
              "      gap: 12px;\n",
              "    }\n",
              "\n",
              "    .colab-df-convert {\n",
              "      background-color: #E8F0FE;\n",
              "      border: none;\n",
              "      border-radius: 50%;\n",
              "      cursor: pointer;\n",
              "      display: none;\n",
              "      fill: #1967D2;\n",
              "      height: 32px;\n",
              "      padding: 0 0 0 0;\n",
              "      width: 32px;\n",
              "    }\n",
              "\n",
              "    .colab-df-convert:hover {\n",
              "      background-color: #E2EBFA;\n",
              "      box-shadow: 0px 1px 2px rgba(60, 64, 67, 0.3), 0px 1px 3px 1px rgba(60, 64, 67, 0.15);\n",
              "      fill: #174EA6;\n",
              "    }\n",
              "\n",
              "    [theme=dark] .colab-df-convert {\n",
              "      background-color: #3B4455;\n",
              "      fill: #D2E3FC;\n",
              "    }\n",
              "\n",
              "    [theme=dark] .colab-df-convert:hover {\n",
              "      background-color: #434B5C;\n",
              "      box-shadow: 0px 1px 3px 1px rgba(0, 0, 0, 0.15);\n",
              "      filter: drop-shadow(0px 1px 2px rgba(0, 0, 0, 0.3));\n",
              "      fill: #FFFFFF;\n",
              "    }\n",
              "  </style>\n",
              "\n",
              "      <script>\n",
              "        const buttonEl =\n",
              "          document.querySelector('#df-578f21b5-4eee-41d3-8026-562c9dcaf0c5 button.colab-df-convert');\n",
              "        buttonEl.style.display =\n",
              "          google.colab.kernel.accessAllowed ? 'block' : 'none';\n",
              "\n",
              "        async function convertToInteractive(key) {\n",
              "          const element = document.querySelector('#df-578f21b5-4eee-41d3-8026-562c9dcaf0c5');\n",
              "          const dataTable =\n",
              "            await google.colab.kernel.invokeFunction('convertToInteractive',\n",
              "                                                     [key], {});\n",
              "          if (!dataTable) return;\n",
              "\n",
              "          const docLinkHtml = 'Like what you see? Visit the ' +\n",
              "            '<a target=\"_blank\" href=https://colab.research.google.com/notebooks/data_table.ipynb>data table notebook</a>'\n",
              "            + ' to learn more about interactive tables.';\n",
              "          element.innerHTML = '';\n",
              "          dataTable['output_type'] = 'display_data';\n",
              "          await google.colab.output.renderOutput(dataTable, element);\n",
              "          const docLink = document.createElement('div');\n",
              "          docLink.innerHTML = docLinkHtml;\n",
              "          element.appendChild(docLink);\n",
              "        }\n",
              "      </script>\n",
              "    </div>\n",
              "  </div>\n",
              "  "
            ],
            "text/plain": [
              "                               name    location  year  ...  seats  new_price  price\n",
              "0            Maruti Wagon R LXI CNG      Mumbai  2010  ...    5.0        NaN   1.75\n",
              "1  Hyundai Creta 1.6 CRDi SX Option        Pune  2015  ...    5.0        NaN  12.50\n",
              "2                      Honda Jazz V     Chennai  2011  ...    5.0  8.61 Lakh   4.50\n",
              "3                 Maruti Ertiga VDI     Chennai  2012  ...    7.0        NaN   6.00\n",
              "4   Audi A4 New 2.0 TDI Multitronic  Coimbatore  2013  ...    5.0        NaN  17.74\n",
              "\n",
              "[5 rows x 13 columns]"
            ]
          },
          "metadata": {},
          "execution_count": 198
        }
      ]
    },
    {
      "cell_type": "markdown",
      "source": [
        "**2 - Drop variables with no predictive power: name and new_price**"
      ],
      "metadata": {
        "id": "ejl_EI-cm0oF"
      }
    },
    {
      "cell_type": "markdown",
      "source": [
        "**Variable name**"
      ],
      "metadata": {
        "id": "tUvkps3CbhIE"
      }
    },
    {
      "cell_type": "code",
      "source": [
        "cars[\"name\"].head()"
      ],
      "metadata": {
        "id": "-DN9Hcv5kZH1",
        "colab": {
          "base_uri": "https://localhost:8080/"
        },
        "outputId": "deec278c-b26a-4755-ce32-e84fe259e0fc"
      },
      "execution_count": 199,
      "outputs": [
        {
          "output_type": "execute_result",
          "data": {
            "text/plain": [
              "0              Maruti Wagon R LXI CNG\n",
              "1    Hyundai Creta 1.6 CRDi SX Option\n",
              "2                        Honda Jazz V\n",
              "3                   Maruti Ertiga VDI\n",
              "4     Audi A4 New 2.0 TDI Multitronic\n",
              "Name: name, dtype: object"
            ]
          },
          "metadata": {},
          "execution_count": 199
        }
      ]
    },
    {
      "cell_type": "code",
      "source": [
        "len(cars[\"name\"].value_counts())\n",
        "# Variable name has too many categories"
      ],
      "metadata": {
        "id": "MAoDYvCdZVm7",
        "colab": {
          "base_uri": "https://localhost:8080/"
        },
        "outputId": "0412801e-403a-4569-e88b-c2d6359cc67c"
      },
      "execution_count": 200,
      "outputs": [
        {
          "output_type": "execute_result",
          "data": {
            "text/plain": [
              "1876"
            ]
          },
          "metadata": {},
          "execution_count": 200
        }
      ]
    },
    {
      "cell_type": "code",
      "source": [
        "# maybe by converting cars' name to cars' brand we can both decrease the number of categories and make the variable more informative\n",
        "# First, let's convert cars'name to cars'brand\n",
        "cars['name'] = cars['name'].apply(lambda x: x.split(' ')[0])\n",
        "cars['name'].head()"
      ],
      "metadata": {
        "id": "t1BVs3NRZHTX",
        "colab": {
          "base_uri": "https://localhost:8080/"
        },
        "outputId": "67786257-e7ab-45a8-c8a2-7372a6f9e373"
      },
      "execution_count": 201,
      "outputs": [
        {
          "output_type": "execute_result",
          "data": {
            "text/plain": [
              "0     Maruti\n",
              "1    Hyundai\n",
              "2      Honda\n",
              "3     Maruti\n",
              "4       Audi\n",
              "Name: name, dtype: object"
            ]
          },
          "metadata": {},
          "execution_count": 201
        }
      ]
    },
    {
      "cell_type": "code",
      "source": [
        "len(cars['name'].value_counts())\n",
        "\n",
        "# Even after the conversion the number of categories of this variable is too large. It is better to drop it."
      ],
      "metadata": {
        "id": "tcoPi5xpaCLu",
        "colab": {
          "base_uri": "https://localhost:8080/"
        },
        "outputId": "08fb61c2-2761-4c5f-8a53-7d0dc2870031"
      },
      "execution_count": 202,
      "outputs": [
        {
          "output_type": "execute_result",
          "data": {
            "text/plain": [
              "31"
            ]
          },
          "metadata": {},
          "execution_count": 202
        }
      ]
    },
    {
      "cell_type": "markdown",
      "source": [
        "**Variable new_price**"
      ],
      "metadata": {
        "id": "mDGrG9oibvuh"
      }
    },
    {
      "cell_type": "code",
      "source": [
        "cars[\"new_price\"].head()\n",
        "# It is possible to perceive we have a lot of missing data"
      ],
      "metadata": {
        "id": "JBiaxMAiAY4Z",
        "colab": {
          "base_uri": "https://localhost:8080/"
        },
        "outputId": "f712c489-9588-4d89-fbd4-2187d02493f0"
      },
      "execution_count": 203,
      "outputs": [
        {
          "output_type": "execute_result",
          "data": {
            "text/plain": [
              "0          NaN\n",
              "1          NaN\n",
              "2    8.61 Lakh\n",
              "3          NaN\n",
              "4          NaN\n",
              "Name: new_price, dtype: object"
            ]
          },
          "metadata": {},
          "execution_count": 203
        }
      ]
    },
    {
      "cell_type": "code",
      "source": [
        "missing_values_perc = cars[\"new_price\"].isnull().sum()/len(cars)\n",
        "print(\"{:.2%} of missing values\".format(missing_values_perc))\n",
        "\n",
        "# Once the amount of missing values is too large, it is better to drop this variable."
      ],
      "metadata": {
        "id": "OlbgEauAb-sc",
        "colab": {
          "base_uri": "https://localhost:8080/"
        },
        "outputId": "954d5258-2bdf-4aed-9534-020619be0c6b"
      },
      "execution_count": 204,
      "outputs": [
        {
          "output_type": "stream",
          "name": "stdout",
          "text": [
            "86.31% of missing values\n"
          ]
        }
      ]
    },
    {
      "cell_type": "code",
      "source": [
        "import matplotlib.pyplot as plt\n",
        "cars.isna().sum().plot(kind = 'bar')\n",
        "plt.ylabel('Number of missing values')\n",
        "plt.title('Number of Nan values in each variable')\n",
        "plt.show()"
      ],
      "metadata": {
        "colab": {
          "base_uri": "https://localhost:8080/",
          "height": 361
        },
        "id": "Bhp2u162bix9",
        "outputId": "f6622514-c562-416e-d3d6-d3f1d1f44f55"
      },
      "execution_count": 205,
      "outputs": [
        {
          "output_type": "display_data",
          "data": {
            "image/png": "[encoded data removed]",
            "text/plain": [
              "<Figure size 432x288 with 1 Axes>"
            ]
          },
          "metadata": {
            "needs_background": "light"
          }
        }
      ]
    },
    {
      "cell_type": "code",
      "source": [
        "# dropping the variables with no predictive power\n",
        "cars.drop([\"name\", \"new_price\"], axis = 1, inplace = True)\n",
        "cars.columns"
      ],
      "metadata": {
        "id": "Xa8CkEM1Ae1I",
        "colab": {
          "base_uri": "https://localhost:8080/"
        },
        "outputId": "d06bf02f-59ab-4690-8336-45b047ca9081"
      },
      "execution_count": 206,
      "outputs": [
        {
          "output_type": "execute_result",
          "data": {
            "text/plain": [
              "Index(['location', 'year', 'kilometers_driven', 'fuel_type', 'transmission',\n",
              "       'owner_type', 'mileage', 'engine', 'power', 'seats', 'price'],\n",
              "      dtype='object')"
            ]
          },
          "metadata": {},
          "execution_count": 206
        }
      ]
    },
    {
      "cell_type": "markdown",
      "source": [
        " **3 - Feature engineering: fuel_type, owner_type, mileage, engine, power**"
      ],
      "metadata": {
        "id": "y_QRi3N7nIrr"
      }
    },
    {
      "cell_type": "markdown",
      "source": [
        "**Variable Fuel_type**"
      ],
      "metadata": {
        "id": "Ya6zNhBxdAH2"
      }
    },
    {
      "cell_type": "code",
      "source": [
        "cars[\"fuel_type\"].head()"
      ],
      "metadata": {
        "id": "wGGz94kCpvcI",
        "colab": {
          "base_uri": "https://localhost:8080/"
        },
        "outputId": "06b93ad5-3019-4c0d-f7b3-05e057b7bb9d"
      },
      "execution_count": 207,
      "outputs": [
        {
          "output_type": "execute_result",
          "data": {
            "text/plain": [
              "0       CNG\n",
              "1    Diesel\n",
              "2    Petrol\n",
              "3    Diesel\n",
              "4    Diesel\n",
              "Name: fuel_type, dtype: object"
            ]
          },
          "metadata": {},
          "execution_count": 207
        }
      ]
    },
    {
      "cell_type": "code",
      "source": [
        "cars[\"fuel_type\"].value_counts()"
      ],
      "metadata": {
        "id": "PEz-NiqAdT58",
        "colab": {
          "base_uri": "https://localhost:8080/"
        },
        "outputId": "45dda9d2-cae9-4560-af1b-2743a3a2ebb5"
      },
      "execution_count": 208,
      "outputs": [
        {
          "output_type": "execute_result",
          "data": {
            "text/plain": [
              "Diesel      3205\n",
              "Petrol      2746\n",
              "CNG           56\n",
              "LPG           10\n",
              "Electric       2\n",
              "Name: fuel_type, dtype: int64"
            ]
          },
          "metadata": {},
          "execution_count": 208
        }
      ]
    },
    {
      "cell_type": "code",
      "source": [
        "# Converting LPG and CNG into a unique value: Gas\n",
        "values = ['CNG','LPG']\n",
        "cars.loc[cars['fuel_type'].isin(values), 'fuel_type'] = 'Gas'\n",
        "\n",
        "cars['fuel_type'].value_counts()"
      ],
      "metadata": {
        "id": "_D7oLNbjcr_i",
        "colab": {
          "base_uri": "https://localhost:8080/"
        },
        "outputId": "6edb8337-fd1e-4bd3-efae-04f8eab03513"
      },
      "execution_count": 209,
      "outputs": [
        {
          "output_type": "execute_result",
          "data": {
            "text/plain": [
              "Diesel      3205\n",
              "Petrol      2746\n",
              "Gas           66\n",
              "Electric       2\n",
              "Name: fuel_type, dtype: int64"
            ]
          },
          "metadata": {},
          "execution_count": 209
        }
      ]
    },
    {
      "cell_type": "code",
      "source": [
        "# Once we have only two rows in which fuel type is electric there will not be a problem if we drop them.\n",
        "eletr_idx = cars[cars[\"fuel_type\"] == \"Electric\"].index\n",
        "cars.drop(eletr_idx, inplace = True)"
      ],
      "metadata": {
        "id": "mGOyRlGlcxhE"
      },
      "execution_count": 210,
      "outputs": []
    },
    {
      "cell_type": "code",
      "source": [
        "cars['fuel_type'].value_counts()"
      ],
      "metadata": {
        "id": "Lu3h1z35g5X0",
        "colab": {
          "base_uri": "https://localhost:8080/"
        },
        "outputId": "174b2ad2-2a47-4835-a475-df8185815d8e"
      },
      "execution_count": 211,
      "outputs": [
        {
          "output_type": "execute_result",
          "data": {
            "text/plain": [
              "Diesel    3205\n",
              "Petrol    2746\n",
              "Gas         66\n",
              "Name: fuel_type, dtype: int64"
            ]
          },
          "metadata": {},
          "execution_count": 211
        }
      ]
    },
    {
      "cell_type": "markdown",
      "source": [
        "**Variable Owner_type**"
      ],
      "metadata": {
        "id": "wHMUHdpDhMVB"
      }
    },
    {
      "cell_type": "code",
      "source": [
        "cars[\"owner_type\"].head()"
      ],
      "metadata": {
        "id": "-ucCWNQPqlOr",
        "colab": {
          "base_uri": "https://localhost:8080/"
        },
        "outputId": "ff32e8d8-a1b3-47ff-9819-4f3838179b08"
      },
      "execution_count": 212,
      "outputs": [
        {
          "output_type": "execute_result",
          "data": {
            "text/plain": [
              "0     First\n",
              "1     First\n",
              "2     First\n",
              "3     First\n",
              "4    Second\n",
              "Name: owner_type, dtype: object"
            ]
          },
          "metadata": {},
          "execution_count": 212
        }
      ]
    },
    {
      "cell_type": "code",
      "source": [
        "cars[\"owner_type\"].value_counts()"
      ],
      "metadata": {
        "id": "OsyfzlvKje1v",
        "colab": {
          "base_uri": "https://localhost:8080/"
        },
        "outputId": "5892e9c8-fffc-4c52-f836-51e6b386d599"
      },
      "execution_count": 213,
      "outputs": [
        {
          "output_type": "execute_result",
          "data": {
            "text/plain": [
              "First             4927\n",
              "Second             968\n",
              "Third              113\n",
              "Fourth & Above       9\n",
              "Name: owner_type, dtype: int64"
            ]
          },
          "metadata": {},
          "execution_count": 213
        }
      ]
    },
    {
      "cell_type": "code",
      "source": [
        "# Converting values Third and Fourth & Above into one unique value: Third & Above\n",
        "values = [\"Third\", \"Fourth & Above\"]\n",
        "cars.loc[cars[\"owner_type\"].isin(values), \"owner_type\"] = \"Third & Above\"\n",
        "\n",
        "cars[\"owner_type\"].value_counts()"
      ],
      "metadata": {
        "id": "acz1MKZQjgnq",
        "colab": {
          "base_uri": "https://localhost:8080/"
        },
        "outputId": "2658c630-af9c-4a2e-ae15-2fe1755d50b5"
      },
      "execution_count": 214,
      "outputs": [
        {
          "output_type": "execute_result",
          "data": {
            "text/plain": [
              "First            4927\n",
              "Second            968\n",
              "Third & Above     122\n",
              "Name: owner_type, dtype: int64"
            ]
          },
          "metadata": {},
          "execution_count": 214
        }
      ]
    },
    {
      "cell_type": "markdown",
      "source": [
        "**Variable Mileage**"
      ],
      "metadata": {
        "id": "1cq9uBnxjzBt"
      }
    },
    {
      "cell_type": "code",
      "source": [
        "cars[\"mileage\"].head()"
      ],
      "metadata": {
        "id": "X0HRCkBVkAAQ",
        "colab": {
          "base_uri": "https://localhost:8080/"
        },
        "outputId": "fb4bcde4-7dec-44ab-d426-dee9bdbbf0aa"
      },
      "execution_count": 215,
      "outputs": [
        {
          "output_type": "execute_result",
          "data": {
            "text/plain": [
              "0    26.6 km/kg\n",
              "1    19.67 kmpl\n",
              "2     18.2 kmpl\n",
              "3    20.77 kmpl\n",
              "4     15.2 kmpl\n",
              "Name: mileage, dtype: object"
            ]
          },
          "metadata": {},
          "execution_count": 215
        }
      ]
    },
    {
      "cell_type": "code",
      "source": [
        "# How many values have the suffix km/kg or kmpl?\n",
        "suffix_kmkg = []\n",
        "suffix_kmpl = []\n",
        "other_suffix = []\n",
        "\n",
        "for index, row in cars.iterrows():\n",
        "  if str(row[\"mileage\"]).endswith(\"km/kg\"):\n",
        "    suffix_kmkg.append(row[\"mileage\"])\n",
        "  elif str(row[\"mileage\"]).endswith(\"kmpl\"):\n",
        "    suffix_kmpl.append(row[\"mileage\"])\n",
        "  else:\n",
        "    other_suffix.append(row['mileage'])\n",
        "\n",
        "print(\"end with km/kg:\", len(suffix_kmkg))\n",
        "print(\"end with kmpl:\", len(suffix_kmpl))\n",
        "print(\"end with other:\", len(other_suffix))"
      ],
      "metadata": {
        "id": "RSM8mtrQt_Yo",
        "colab": {
          "base_uri": "https://localhost:8080/"
        },
        "outputId": "40d5878d-0859-4a39-a5ea-0a6b58b26100"
      },
      "execution_count": 216,
      "outputs": [
        {
          "output_type": "stream",
          "name": "stdout",
          "text": [
            "end with km/kg: 66\n",
            "end with kmpl: 5951\n",
            "end with other: 0\n"
          ]
        }
      ]
    },
    {
      "cell_type": "code",
      "source": [
        "# Converting the kmkg to kmpl, keep only digits and converting to float \n",
        "correct_mileage = []\n",
        "\n",
        "for i in cars.mileage:\n",
        "  if str(i).endswith('km/kg'):\n",
        "    i = i[:-6]\n",
        "    i = float(i)*1.40\n",
        "    correct_mileage.append(float(i))\n",
        "  elif str(i).endswith('kmpl'):\n",
        "    i = i[:-6]\n",
        "    correct_mileage.append(float(i))\n"
      ],
      "metadata": {
        "id": "ZIiCHDWklPb6"
      },
      "execution_count": 217,
      "outputs": []
    },
    {
      "cell_type": "code",
      "source": [
        "cars['mileage'] = correct_mileage"
      ],
      "metadata": {
        "id": "doiWpN3wZDRe"
      },
      "execution_count": 218,
      "outputs": []
    },
    {
      "cell_type": "code",
      "source": [
        "cars['mileage'].head()"
      ],
      "metadata": {
        "colab": {
          "base_uri": "https://localhost:8080/"
        },
        "id": "a2Tww-T_Wd8b",
        "outputId": "902704e7-eaba-4fcd-8fde-0561ccd5fb3a"
      },
      "execution_count": 219,
      "outputs": [
        {
          "output_type": "execute_result",
          "data": {
            "text/plain": [
              "0    37.24\n",
              "1    19.60\n",
              "2    18.00\n",
              "3    20.70\n",
              "4    15.00\n",
              "Name: mileage, dtype: float64"
            ]
          },
          "metadata": {},
          "execution_count": 219
        }
      ]
    },
    {
      "cell_type": "code",
      "source": [
        "# verify whether the conversion worked as expected\n",
        "assert cars['mileage'].dtype == 'float'"
      ],
      "metadata": {
        "id": "bSurYhMvWn0O"
      },
      "execution_count": 220,
      "outputs": []
    },
    {
      "cell_type": "markdown",
      "source": [
        "**Variable Engine**"
      ],
      "metadata": {
        "id": "AJyuzlfvnDGw"
      }
    },
    {
      "cell_type": "code",
      "source": [
        "cars[\"engine\"].head()"
      ],
      "metadata": {
        "id": "503LTdx6nO4h",
        "colab": {
          "base_uri": "https://localhost:8080/"
        },
        "outputId": "cb2008d0-deaa-435b-9cfb-34564657ddae"
      },
      "execution_count": 221,
      "outputs": [
        {
          "output_type": "execute_result",
          "data": {
            "text/plain": [
              "0     998 CC\n",
              "1    1582 CC\n",
              "2    1199 CC\n",
              "3    1248 CC\n",
              "4    1968 CC\n",
              "Name: engine, dtype: object"
            ]
          },
          "metadata": {},
          "execution_count": 221
        }
      ]
    },
    {
      "cell_type": "code",
      "source": [
        "# How many values have the suffix CC or other suffixes?\n",
        "suffix_cc = []\n",
        "other_suffix = []\n",
        "\n",
        "for index, row in cars.iterrows():\n",
        "  if str(row[\"engine\"]).endswith(\"CC\"):\n",
        "    suffix_cc.append(row[\"engine\"])\n",
        "  else:\n",
        "    other_suffix.append(row[\"engine\"])\n",
        "\n",
        "print(\"end with cc:\", len(suffix_cc))\n",
        "print(\"others:\", len(other_suffix))"
      ],
      "metadata": {
        "id": "szcZkp7QnPJI",
        "colab": {
          "base_uri": "https://localhost:8080/"
        },
        "outputId": "435bbe5e-7f3c-4571-9e44-7f04a9bc6ba7"
      },
      "execution_count": 222,
      "outputs": [
        {
          "output_type": "stream",
          "name": "stdout",
          "text": [
            "end with cc: 5981\n",
            "others: 36\n"
          ]
        }
      ]
    },
    {
      "cell_type": "code",
      "source": [
        "# identifying the indexes of missing values\n",
        "engine_missing = cars[cars['engine'].isnull()].index\n",
        "print(len(engine_missing))\n",
        "\n",
        "# The number of values that not ends with cc and the number of missing values are equal\n",
        "# Are the values that do not end with cc the missing values?"
      ],
      "metadata": {
        "id": "61NzLEkEnPWw",
        "colab": {
          "base_uri": "https://localhost:8080/"
        },
        "outputId": "9a6a8cea-47d9-4caa-c5dc-dd14c92a21d9"
      },
      "execution_count": 223,
      "outputs": [
        {
          "output_type": "stream",
          "name": "stdout",
          "text": [
            "36\n"
          ]
        }
      ]
    },
    {
      "cell_type": "code",
      "source": [
        "# indetifying the indexes of values that do not end with CC\n",
        "no_end_cc = []\n",
        "\n",
        "for index, row in cars.iterrows():\n",
        "  if str(row['engine']).endswith('CC') == False:\n",
        "    no_end_cc.append(index)\n",
        "\n",
        "print(no_end_cc)"
      ],
      "metadata": {
        "id": "CzMLjogctgF6",
        "colab": {
          "base_uri": "https://localhost:8080/"
        },
        "outputId": "e36d5047-8c2b-41de-8e78-606ebed9badc"
      },
      "execution_count": 224,
      "outputs": [
        {
          "output_type": "stream",
          "name": "stdout",
          "text": [
            "[194, 208, 733, 749, 1294, 1327, 1385, 1460, 2074, 2096, 2264, 2325, 2335, 2530, 2542, 2623, 2668, 2737, 2780, 2842, 3272, 3404, 3520, 3522, 3810, 4011, 4152, 4229, 4577, 4604, 4697, 4712, 4952, 5015, 5185, 5270]\n"
          ]
        }
      ]
    },
    {
      "cell_type": "code",
      "source": [
        "# Function to compare whether two list are equal\n",
        "def check_if_equal(list1, list2):\n",
        "  ''' Compare two list to verify whether their elements are equal'''\n",
        "  if len(list1) != len(list2):\n",
        "    return False\n",
        "  else:\n",
        "    return sorted(list1) == sorted(list2)"
      ],
      "metadata": {
        "id": "thLB0Aa7AWQy"
      },
      "execution_count": 225,
      "outputs": []
    },
    {
      "cell_type": "code",
      "source": [
        "# Let's verify whether the values that end with other suffixes are actually the missing values\n",
        "check_if_equal(no_end_cc, engine_missing)"
      ],
      "metadata": {
        "id": "B9iND-4PAYyr",
        "colab": {
          "base_uri": "https://localhost:8080/"
        },
        "outputId": "7e04aab7-2a67-4c03-f7f1-cc724e4556d6"
      },
      "execution_count": 226,
      "outputs": [
        {
          "output_type": "execute_result",
          "data": {
            "text/plain": [
              "True"
            ]
          },
          "metadata": {},
          "execution_count": 226
        }
      ]
    },
    {
      "cell_type": "code",
      "source": [
        "# Function to drop the suffixes and convert to float\n",
        "def strip_convert(df, col_name, str_to_remove, data_type):\n",
        "  '''Drop a specific suffix from each value of a DataFrame column and convert the value to a specific type.'''\n",
        "\n",
        "  for item in [col_name, str_to_remove, data_type]:\n",
        "    if (not isinstance(df, pd.core.frame.DataFrame)) or (not isinstance(item, str)):\n",
        "      raise ValueError('df must be a DataFrame and col_name, str_to_remove and data_type must be strings')\n",
        "\n",
        "  df[col_name] = df[col_name].str.strip(str_to_remove)\n",
        "  return df[col_name].astype(data_type)"
      ],
      "metadata": {
        "id": "Yj98HzaNux9L"
      },
      "execution_count": 227,
      "outputs": []
    },
    {
      "cell_type": "code",
      "source": [
        "cars['engine'] = strip_convert(cars, 'engine', 'CC', 'float')"
      ],
      "metadata": {
        "id": "MMXyGIAjD3hT"
      },
      "execution_count": 228,
      "outputs": []
    },
    {
      "cell_type": "code",
      "source": [
        "cars['engine'].head()"
      ],
      "metadata": {
        "id": "ostg5QB-7gmU",
        "colab": {
          "base_uri": "https://localhost:8080/"
        },
        "outputId": "e9d4fc87-eb09-4c4e-cbdd-d8e146326155"
      },
      "execution_count": 229,
      "outputs": [
        {
          "output_type": "execute_result",
          "data": {
            "text/plain": [
              "0     998.0\n",
              "1    1582.0\n",
              "2    1199.0\n",
              "3    1248.0\n",
              "4    1968.0\n",
              "Name: engine, dtype: float64"
            ]
          },
          "metadata": {},
          "execution_count": 229
        }
      ]
    },
    {
      "cell_type": "markdown",
      "source": [
        "**Variable Power**"
      ],
      "metadata": {
        "id": "mwXkyEmm7rLD"
      }
    },
    {
      "cell_type": "code",
      "source": [
        "cars[\"power\"].head()"
      ],
      "metadata": {
        "id": "zikMkHVD7oMz",
        "colab": {
          "base_uri": "https://localhost:8080/"
        },
        "outputId": "3ab1bc0f-3213-431d-da0c-c78a9b90e6ce"
      },
      "execution_count": 230,
      "outputs": [
        {
          "output_type": "execute_result",
          "data": {
            "text/plain": [
              "0    58.16 bhp\n",
              "1    126.2 bhp\n",
              "2     88.7 bhp\n",
              "3    88.76 bhp\n",
              "4    140.8 bhp\n",
              "Name: power, dtype: object"
            ]
          },
          "metadata": {},
          "execution_count": 230
        }
      ]
    },
    {
      "cell_type": "code",
      "source": [
        "# How many values end with bhp or with other suffixes?\n",
        "suffix_bhp = []\n",
        "other_suffix = []\n",
        "\n",
        "for index, row in cars.iterrows():\n",
        "  if str(row[\"power\"]).endswith(\"bhp\"):\n",
        "    suffix_bhp.append(row[\"power\"])\n",
        "  else:\n",
        "    other_suffix.append(row[\"power\"])\n",
        "\n",
        "print(\"end with bhp:\", len(suffix_bhp))\n",
        "print(\"others:\", len(other_suffix))"
      ],
      "metadata": {
        "id": "6DGpAkYP71FB",
        "colab": {
          "base_uri": "https://localhost:8080/"
        },
        "outputId": "cff2e49c-50b8-41f2-9050-9ff4599c5360"
      },
      "execution_count": 231,
      "outputs": [
        {
          "output_type": "stream",
          "name": "stdout",
          "text": [
            "end with bhp: 5981\n",
            "others: 36\n"
          ]
        }
      ]
    },
    {
      "cell_type": "code",
      "source": [
        "# identifying the indexes of missing values\n",
        "power_missing = cars[cars['power'].isnull()].index\n",
        "print(len(power_missing))"
      ],
      "metadata": {
        "id": "nLZvpcX575uW",
        "colab": {
          "base_uri": "https://localhost:8080/"
        },
        "outputId": "a3c437b5-3f54-4312-a3df-d146a5c00ee9"
      },
      "execution_count": 232,
      "outputs": [
        {
          "output_type": "stream",
          "name": "stdout",
          "text": [
            "36\n"
          ]
        }
      ]
    },
    {
      "cell_type": "code",
      "source": [
        "# indetifying the indexes of values that do not end with bhp\n",
        "no_end_bhp = []\n",
        "\n",
        "for index, row in cars.iterrows():\n",
        "  if str(row['power']).endswith('bhp') == False:\n",
        "    no_end_bhp.append(index)\n",
        "\n",
        "print(no_end_bhp)"
      ],
      "metadata": {
        "id": "Eg89z0ZM8yQL",
        "colab": {
          "base_uri": "https://localhost:8080/"
        },
        "outputId": "379e7ff8-987a-4e74-eaef-ead0657ec0e2"
      },
      "execution_count": 233,
      "outputs": [
        {
          "output_type": "stream",
          "name": "stdout",
          "text": [
            "[194, 208, 733, 749, 1294, 1327, 1385, 1460, 2074, 2096, 2264, 2325, 2335, 2530, 2542, 2623, 2668, 2737, 2780, 2842, 3272, 3404, 3520, 3522, 3810, 4011, 4152, 4229, 4577, 4604, 4697, 4712, 4952, 5015, 5185, 5270]\n"
          ]
        }
      ]
    },
    {
      "cell_type": "code",
      "source": [
        "check_if_equal(power_missing, no_end_bhp)\n",
        "\n",
        "# Great! The values that end with other suffixes are actually the missing values"
      ],
      "metadata": {
        "id": "-YaxRe1d88vi",
        "colab": {
          "base_uri": "https://localhost:8080/"
        },
        "outputId": "898b5cf7-b8b8-4e31-dfd0-de0efa8e4589"
      },
      "execution_count": 234,
      "outputs": [
        {
          "output_type": "execute_result",
          "data": {
            "text/plain": [
              "True"
            ]
          },
          "metadata": {},
          "execution_count": 234
        }
      ]
    },
    {
      "cell_type": "code",
      "source": [
        "# let's convert the string 'null ' to nan\n",
        "import numpy as np\n",
        "cars.loc[cars['power'] == 'null ', 'power'] = np.nan "
      ],
      "metadata": {
        "id": "jqc-Bzjj-PUs"
      },
      "execution_count": 236,
      "outputs": []
    },
    {
      "cell_type": "code",
      "source": [
        "# now the code is goint to produce the expected result\n",
        "cars[\"power\"] = strip_convert(cars, 'power', 'bhp', 'float')\n",
        "cars['power'].head()"
      ],
      "metadata": {
        "id": "341eggQx-lVM",
        "colab": {
          "base_uri": "https://localhost:8080/"
        },
        "outputId": "c374f163-66ad-4bee-f638-73547d9bd61f"
      },
      "execution_count": 237,
      "outputs": [
        {
          "output_type": "execute_result",
          "data": {
            "text/plain": [
              "0     58.16\n",
              "1    126.20\n",
              "2     88.70\n",
              "3     88.76\n",
              "4    140.80\n",
              "Name: power, dtype: float64"
            ]
          },
          "metadata": {},
          "execution_count": 237
        }
      ]
    },
    {
      "cell_type": "markdown",
      "source": [
        "**Descriptive statistics**"
      ],
      "metadata": {
        "id": "ZF2dYEB_33Rz"
      }
    },
    {
      "cell_type": "markdown",
      "source": [
        "**Correlation matrix**"
      ],
      "metadata": {
        "id": "kBByGisapYjQ"
      }
    },
    {
      "cell_type": "code",
      "source": [
        "corr_matrix = cars.corr()\n",
        "corr_matrix\n",
        "\n",
        "# Which is the variable that is more correlated with the price?\n",
        "corr_matrix[\"price\"].sort_values(ascending = False)"
      ],
      "metadata": {
        "id": "evxOCxdVFu3a",
        "colab": {
          "base_uri": "https://localhost:8080/"
        },
        "outputId": "5225a8cc-850d-463d-9388-d6cd4e5b81bb"
      },
      "execution_count": 238,
      "outputs": [
        {
          "output_type": "execute_result",
          "data": {
            "text/plain": [
              "price                1.000000\n",
              "power                0.772837\n",
              "engine               0.658855\n",
              "year                 0.305355\n",
              "seats                0.052262\n",
              "kilometers_driven   -0.011480\n",
              "mileage             -0.292591\n",
              "Name: price, dtype: float64"
            ]
          },
          "metadata": {},
          "execution_count": 238
        }
      ]
    },
    {
      "cell_type": "code",
      "source": [
        "cars.pivot_table(index = \"transmission\", columns = \"fuel_type\", values = 'price')"
      ],
      "metadata": {
        "colab": {
          "base_uri": "https://localhost:8080/",
          "height": 143
        },
        "id": "0lhyl52MIFsA",
        "outputId": "6643cd9e-aef5-4b19-9596-00ffa53a7bff"
      },
      "execution_count": 239,
      "outputs": [
        {
          "output_type": "execute_result",
          "data": {
            "text/html": [
              "\n",
              "  <div id=\"df-4693d827-4552-49c8-a446-b0dbf2db0d92\">\n",
              "    <div class=\"colab-df-container\">\n",
              "      <div>\n",
              "<style scoped>\n",
              "    .dataframe tbody tr th:only-of-type {\n",
              "        vertical-align: middle;\n",
              "    }\n",
              "\n",
              "    .dataframe tbody tr th {\n",
              "        vertical-align: top;\n",
              "    }\n",
              "\n",
              "    .dataframe thead th {\n",
              "        text-align: right;\n",
              "    }\n",
              "</style>\n",
              "<table border=\"1\" class=\"dataframe\">\n",
              "  <thead>\n",
              "    <tr style=\"text-align: right;\">\n",
              "      <th>fuel_type</th>\n",
              "      <th>Diesel</th>\n",
              "      <th>Gas</th>\n",
              "      <th>Petrol</th>\n",
              "    </tr>\n",
              "    <tr>\n",
              "      <th>transmission</th>\n",
              "      <th></th>\n",
              "      <th></th>\n",
              "      <th></th>\n",
              "    </tr>\n",
              "  </thead>\n",
              "  <tbody>\n",
              "    <tr>\n",
              "      <th>Automatic</th>\n",
              "      <td>24.583078</td>\n",
              "      <td>NaN</td>\n",
              "      <td>11.258738</td>\n",
              "    </tr>\n",
              "    <tr>\n",
              "      <th>Manual</th>\n",
              "      <td>6.636190</td>\n",
              "      <td>3.360758</td>\n",
              "      <td>4.113947</td>\n",
              "    </tr>\n",
              "  </tbody>\n",
              "</table>\n",
              "</div>\n",
              "      <button class=\"colab-df-convert\" onclick=\"convertToInteractive('df-4693d827-4552-49c8-a446-b0dbf2db0d92')\"\n",
              "              title=\"Convert this dataframe to an interactive table.\"\n",
              "              style=\"display:none;\">\n",
              "        \n",
              "  <svg xmlns=\"http://www.w3.org/2000/svg\" height=\"24px\"viewBox=\"0 0 24 24\"\n",
              "       width=\"24px\">\n",
              "    <path d=\"M0 0h24v24H0V0z\" fill=\"none\"/>\n",
              "    <path d=\"M18.56 5.44l.94 2.06.94-2.06 2.06-.94-2.06-.94-.94-2.06-.94 2.06-2.06.94zm-11 1L8.5 8.5l.94-2.06 2.06-.94-2.06-.94L8.5 2.5l-.94 2.06-2.06.94zm10 10l.94 2.06.94-2.06 2.06-.94-2.06-.94-.94-2.06-.94 2.06-2.06.94z\"/><path d=\"M17.41 7.96l-1.37-1.37c-.4-.4-.92-.59-1.43-.59-.52 0-1.04.2-1.43.59L10.3 9.45l-7.72 7.72c-.78.78-.78 2.05 0 2.83L4 21.41c.39.39.9.59 1.41.59.51 0 1.02-.2 1.41-.59l7.78-7.78 2.81-2.81c.8-.78.8-2.07 0-2.86zM5.41 20L4 18.59l7.72-7.72 1.47 1.35L5.41 20z\"/>\n",
              "  </svg>\n",
              "      </button>\n",
              "      \n",
              "  <style>\n",
              "    .colab-df-container {\n",
              "      display:flex;\n",
              "      flex-wrap:wrap;\n",
              "      gap: 12px;\n",
              "    }\n",
              "\n",
              "    .colab-df-convert {\n",
              "      background-color: #E8F0FE;\n",
              "      border: none;\n",
              "      border-radius: 50%;\n",
              "      cursor: pointer;\n",
              "      display: none;\n",
              "      fill: #1967D2;\n",
              "      height: 32px;\n",
              "      padding: 0 0 0 0;\n",
              "      width: 32px;\n",
              "    }\n",
              "\n",
              "    .colab-df-convert:hover {\n",
              "      background-color: #E2EBFA;\n",
              "      box-shadow: 0px 1px 2px rgba(60, 64, 67, 0.3), 0px 1px 3px 1px rgba(60, 64, 67, 0.15);\n",
              "      fill: #174EA6;\n",
              "    }\n",
              "\n",
              "    [theme=dark] .colab-df-convert {\n",
              "      background-color: #3B4455;\n",
              "      fill: #D2E3FC;\n",
              "    }\n",
              "\n",
              "    [theme=dark] .colab-df-convert:hover {\n",
              "      background-color: #434B5C;\n",
              "      box-shadow: 0px 1px 3px 1px rgba(0, 0, 0, 0.15);\n",
              "      filter: drop-shadow(0px 1px 2px rgba(0, 0, 0, 0.3));\n",
              "      fill: #FFFFFF;\n",
              "    }\n",
              "  </style>\n",
              "\n",
              "      <script>\n",
              "        const buttonEl =\n",
              "          document.querySelector('#df-4693d827-4552-49c8-a446-b0dbf2db0d92 button.colab-df-convert');\n",
              "        buttonEl.style.display =\n",
              "          google.colab.kernel.accessAllowed ? 'block' : 'none';\n",
              "\n",
              "        async function convertToInteractive(key) {\n",
              "          const element = document.querySelector('#df-4693d827-4552-49c8-a446-b0dbf2db0d92');\n",
              "          const dataTable =\n",
              "            await google.colab.kernel.invokeFunction('convertToInteractive',\n",
              "                                                     [key], {});\n",
              "          if (!dataTable) return;\n",
              "\n",
              "          const docLinkHtml = 'Like what you see? Visit the ' +\n",
              "            '<a target=\"_blank\" href=https://colab.research.google.com/notebooks/data_table.ipynb>data table notebook</a>'\n",
              "            + ' to learn more about interactive tables.';\n",
              "          element.innerHTML = '';\n",
              "          dataTable['output_type'] = 'display_data';\n",
              "          await google.colab.output.renderOutput(dataTable, element);\n",
              "          const docLink = document.createElement('div');\n",
              "          docLink.innerHTML = docLinkHtml;\n",
              "          element.appendChild(docLink);\n",
              "        }\n",
              "      </script>\n",
              "    </div>\n",
              "  </div>\n",
              "  "
            ],
            "text/plain": [
              "fuel_type        Diesel       Gas     Petrol\n",
              "transmission                                \n",
              "Automatic     24.583078       NaN  11.258738\n",
              "Manual         6.636190  3.360758   4.113947"
            ]
          },
          "metadata": {},
          "execution_count": 239
        }
      ]
    },
    {
      "cell_type": "markdown",
      "source": [
        "**Plots**"
      ],
      "metadata": {
        "id": "pGdsiwSxF20D"
      }
    },
    {
      "cell_type": "code",
      "source": [
        "# Once the power is the variable more correlated with price, let's see plot this relation\n",
        "import matplotlib.pyplot as plt\n",
        "fig, ax = plt.subplots(2,1)\n",
        "\n",
        "transm_manual = cars[cars[\"transmission\"] == \"Manual\"]\n",
        "transm_automatic = cars[cars[\"transmission\"] == \"Automatic\"]\n",
        "\n",
        "first = cars[cars[\"owner_type\"] == \"First\"]\n",
        "second = cars[cars[\"owner_type\"] == \"Second\"]\n",
        "third = cars[cars[\"owner_type\"] == \"Third & Above\"]\n",
        "\n",
        "ax[0].scatter(transm_manual[\"power\"], transm_manual[\"price\"], color = \"r\", label = \"Manual\")\n",
        "ax[0].scatter(transm_automatic[\"power\"], transm_automatic[\"price\"], color = \"b\", label = \"Automatic\")\n",
        "ax[0].set_ylabel(\"car price\")\n",
        "ax[0].set_title(\"Relation between power and car price by transmission (graph 1), and owner type (graph 2)\")\n",
        "ax[0].legend()\n",
        "\n",
        "ax[1].scatter(first[\"power\"], first[\"price\"], color = \"r\", label = \"First\")\n",
        "ax[1].scatter(second[\"power\"], second[\"price\"], color = \"green\", label = \"Second\")\n",
        "ax[1].scatter(third[\"power\"], third[\"price\"], color = \"yellow\", label = \"Third & Above\")\n",
        "ax[1].set_ylabel(\"car price\")\n",
        "ax[1].set_xlabel(\"power\")\n",
        "ax[1].legend()\n"
      ],
      "metadata": {
        "colab": {
          "base_uri": "https://localhost:8080/",
          "height": 312
        },
        "id": "elXAdu1lqfia",
        "outputId": "841ce31b-0ce2-425f-f272-31bf4b55bed6"
      },
      "execution_count": 240,
      "outputs": [
        {
          "output_type": "execute_result",
          "data": {
            "text/plain": [
              "<matplotlib.legend.Legend at 0x7f8909d1edd0>"
            ]
          },
          "metadata": {},
          "execution_count": 240
        },
        {
          "output_type": "display_data",
          "data": {
            "image/png": "[encoded data removed]",
            "text/plain": [
              "<Figure size 432x288 with 2 Axes>"
            ]
          },
          "metadata": {
            "needs_background": "light"
          }
        }
      ]
    },
    {
      "cell_type": "markdown",
      "source": [
        "**Preparating the dataset to Machine Learning**"
      ],
      "metadata": {
        "id": "DLdyFJ0uHR_p"
      }
    },
    {
      "cell_type": "code",
      "source": [
        "# split the data into predictors and label\n",
        "cars_predictors = cars.drop(\"price\", axis = 1)\n",
        "cars_values = cars[\"price\"].copy()"
      ],
      "metadata": {
        "id": "VNzLaUEtHYrm"
      },
      "execution_count": 242,
      "outputs": []
    },
    {
      "cell_type": "code",
      "source": [
        "# pipeline with all the transformations required to make the data ready to use\n",
        "from sklearn.impute import SimpleImputer\n",
        "from sklearn.preprocessing import StandardScaler\n",
        "from sklearn.preprocessing import OneHotEncoder\n",
        "from sklearn.pipeline import Pipeline\n",
        "from sklearn.compose import ColumnTransformer\n",
        "\n",
        "num_attributes = [\"year\", \"kilometers_driven\", \"mileage\",\n",
        "                  \"engine\", \"power\", \"seats\"]\n",
        "cat_attributes = [\"location\", \"fuel_type\", \"transmission\", \"owner_type\"]\n",
        "\n",
        "num_pipeline = Pipeline([\n",
        "                         (\"imputer\", SimpleImputer(strategy=\"median\")),\n",
        "                         (\"scaler\", StandardScaler())\n",
        "])\n",
        "\n",
        "cat_pipeline = Pipeline([\n",
        "                         (\"imputer\", SimpleImputer(strategy=\"most_frequent\")),\n",
        "                         (\"encoder\", OneHotEncoder(sparse = False))\n",
        "])\n",
        "\n",
        "full_pipeline = ColumnTransformer([\n",
        "                                   (\"num\", num_pipeline, num_attributes),\n",
        "                                   (\"cat\", cat_pipeline, cat_attributes)\n",
        "\n",
        "])"
      ],
      "metadata": {
        "id": "YstI2xNqHnNl"
      },
      "execution_count": 243,
      "outputs": []
    },
    {
      "cell_type": "code",
      "source": [
        "# cars predictors trasnformed\n",
        "cars_train_pred = full_pipeline.fit_transform(cars_predictors)"
      ],
      "metadata": {
        "id": "xK05hzMwqf62"
      },
      "execution_count": 244,
      "outputs": []
    },
    {
      "cell_type": "markdown",
      "source": [
        "**Is the relationship between predictors and the dependent variable linear?**"
      ],
      "metadata": {
        "id": "uVnSVoL54dnj"
      }
    },
    {
      "cell_type": "code",
      "source": [
        "# let's obtain the predicted values and the residuals\n",
        "from sklearn.linear_model import LinearRegression\n",
        "lin_reg = LinearRegression()\n",
        "lin_reg.fit(cars_train_pred, cars_values)\n",
        "predictions = lin_reg.predict(cars_train_pred)\n",
        "cars_residuals = cars_values - predictions"
      ],
      "metadata": {
        "id": "6-zKTCYx5DJY"
      },
      "execution_count": 245,
      "outputs": []
    },
    {
      "cell_type": "code",
      "source": [
        "std_residuals = cars_residuals - cars_residuals.mean() / cars_residuals.std()"
      ],
      "metadata": {
        "id": "pv0iWpKP8o80"
      },
      "execution_count": 246,
      "outputs": []
    },
    {
      "cell_type": "code",
      "source": [
        "# let's the residuals against the fitted values\n",
        "import matplotlib.pyplot as plt\n",
        "fig, ax = plt.subplots()\n",
        "\n",
        "ax.scatter(predictions, std_residuals)\n",
        "ax.axhline(y = 0, color = 'r', linestyle = '--')\n",
        "ax.set_xlabel('Predictions')\n",
        "ax.set_ylabel('Residuals')\n"
      ],
      "metadata": {
        "colab": {
          "base_uri": "https://localhost:8080/",
          "height": 296
        },
        "id": "-YxYJuLg6ECF",
        "outputId": "9c9e0b6b-1f5d-461e-926a-ee8b90aa50c4"
      },
      "execution_count": 247,
      "outputs": [
        {
          "output_type": "execute_result",
          "data": {
            "text/plain": [
              "Text(0, 0.5, 'Residuals')"
            ]
          },
          "metadata": {},
          "execution_count": 247
        },
        {
          "output_type": "display_data",
          "data": {
            "image/png": "[encoded data removed]",
            "text/plain": [
              "<Figure size 432x288 with 1 Axes>"
            ]
          },
          "metadata": {
            "needs_background": "light"
          }
        }
      ]
    },
    {
      "cell_type": "markdown",
      "source": [
        "The residuals are not randomly scattered around zero. Then, it is likely the relationship is not linear\n",
        "\n",
        "---\n",
        "\n"
      ],
      "metadata": {
        "id": "KoZA_OLGQZ4v"
      }
    },
    {
      "cell_type": "markdown",
      "source": [
        "**Linear Regression**"
      ],
      "metadata": {
        "id": "auiPIMHMMnQ3"
      }
    },
    {
      "cell_type": "code",
      "source": [
        "# Although we are not dealing with linear data. Let's try a linear regression\n",
        "from sklearn.linear_model import LinearRegression\n",
        "lin_reg = LinearRegression()\n",
        "lin_reg.fit(cars_train_pred, cars_values)"
      ],
      "metadata": {
        "id": "qsm4t7-OKvo5",
        "colab": {
          "base_uri": "https://localhost:8080/"
        },
        "outputId": "2dbb8c0c-9d7f-4618-fcb6-c4fde153b803"
      },
      "execution_count": 248,
      "outputs": [
        {
          "output_type": "execute_result",
          "data": {
            "text/plain": [
              "LinearRegression()"
            ]
          },
          "metadata": {},
          "execution_count": 248
        }
      ]
    },
    {
      "cell_type": "code",
      "source": [
        "# Let's use some instances from cars_predictors dataset to see how the model makes predictions\n",
        "some_instances = cars_predictors.iloc[:5]\n",
        "some_values = cars_values.iloc[:5]"
      ],
      "metadata": {
        "id": "EcwOelYsvZ8_"
      },
      "execution_count": 249,
      "outputs": []
    },
    {
      "cell_type": "code",
      "source": [
        "# apply the transformation to the data\n",
        "some_instances_prepared = full_pipeline.transform(some_instances)"
      ],
      "metadata": {
        "id": "f5wtqSOEv1sf"
      },
      "execution_count": 250,
      "outputs": []
    },
    {
      "cell_type": "code",
      "source": [
        "lin_reg_predictions = lin_reg.predict(some_instances_prepared)\n",
        "print(lin_reg_predictions)"
      ],
      "metadata": {
        "colab": {
          "base_uri": "https://localhost:8080/"
        },
        "id": "k19qaD1dybFX",
        "outputId": "438b1d41-155c-4e44-e231-55090f9e5f29"
      },
      "execution_count": 251,
      "outputs": [
        {
          "output_type": "stream",
          "name": "stdout",
          "text": [
            "[-2.32907978 12.85539444  2.39006636  2.9346673  17.81956371]\n"
          ]
        }
      ]
    },
    {
      "cell_type": "code",
      "source": [
        "# compare the predictions to the actual values\n",
        "df = pd.DataFrame({\n",
        "                   \"Actual_values\": some_values,\n",
        "                   \"Predictions\": lin_reg_predictions\n",
        "                   })\n",
        "print(df)"
      ],
      "metadata": {
        "colab": {
          "base_uri": "https://localhost:8080/"
        },
        "id": "jcmlGtNEywYc",
        "outputId": "0b1a609a-70e9-476d-fcdd-e7837e66e08e"
      },
      "execution_count": 304,
      "outputs": [
        {
          "output_type": "stream",
          "name": "stdout",
          "text": [
            "   Actual_values  Predictions\n",
            "0           1.75    -2.329080\n",
            "1          12.50    12.855394\n",
            "2           4.50     2.390066\n",
            "3           6.00     2.934667\n",
            "4          17.74    17.819564\n"
          ]
        }
      ]
    },
    {
      "cell_type": "code",
      "source": [
        "# let's verify the model performance using the same dataset that was used to train the model\n",
        "cars_predictions = lin_reg.predict(cars_train_pred)"
      ],
      "metadata": {
        "id": "lrT2Qh3PswFd"
      },
      "execution_count": 253,
      "outputs": []
    },
    {
      "cell_type": "code",
      "source": [
        "from sklearn.metrics import mean_squared_error\n",
        "lin_mse = mean_squared_error(cars_values, cars_predictions)\n",
        "lin_rmse = np.sqrt(lin_mse)\n",
        "print(lin_rmse)"
      ],
      "metadata": {
        "colab": {
          "base_uri": "https://localhost:8080/"
        },
        "id": "1R2NbdRKtDK2",
        "outputId": "3ad93ea8-572b-4266-c816-87527235392e"
      },
      "execution_count": 254,
      "outputs": [
        {
          "output_type": "stream",
          "name": "stdout",
          "text": [
            "6.0895003977285995\n"
          ]
        }
      ]
    },
    {
      "cell_type": "code",
      "source": [
        "# check the performance of the model by cross-validation\n",
        "import numpy as np\n",
        "from sklearn.model_selection import cross_val_score\n",
        "\n",
        "scores = cross_val_score(lin_reg, cars_train_pred, cars_values, cv = 10,\n",
        "                         scoring = \"neg_mean_squared_error\")\n",
        "\n",
        "lin_reg_rmse = np.sqrt(-scores)"
      ],
      "metadata": {
        "id": "PsBxXEqeq5NB"
      },
      "execution_count": 255,
      "outputs": []
    },
    {
      "cell_type": "markdown",
      "source": [
        "Scikit-Learn’s cross-validation features expect a utility function (greater is better) rather than a cost function (lower is better), so the scoring function is actually the opposite of the MSE (i.e., a negative value), which is why the preceding code computes -scores before calculating the square root."
      ],
      "metadata": {
        "id": "TsQmqzx_2tfn"
      }
    },
    {
      "cell_type": "code",
      "source": [
        "# function to print the scores\n",
        "def display_scores(scores):\n",
        "  print(\"Scores:\",scores)\n",
        "  print(\"Mean:\",scores.mean())\n",
        "  print(\"Standard Deviation:\",scores.std())"
      ],
      "metadata": {
        "id": "S2fqn6FjrFco"
      },
      "execution_count": 256,
      "outputs": []
    },
    {
      "cell_type": "code",
      "source": [
        "display_scores(lin_reg_rmse)"
      ],
      "metadata": {
        "colab": {
          "base_uri": "https://localhost:8080/"
        },
        "id": "6-DjATyKrmyf",
        "outputId": "9104fa37-f515-446f-da4c-9d94020b0660"
      },
      "execution_count": 257,
      "outputs": [
        {
          "output_type": "stream",
          "name": "stdout",
          "text": [
            "Scores: [ 6.26203383  6.07497431  6.24202106 11.01692442  5.94008032  5.50509007\n",
            "  6.99362833  5.81427676  5.50041633  6.03123959]\n",
            "Mean: 6.538068500971588\n",
            "Standard Deviation: 1.546870611696441\n"
          ]
        }
      ]
    },
    {
      "cell_type": "markdown",
      "source": [
        "As the score on the training set (6.08) is not that different from the mean score on the validation sets (6.53) it seems overfitting is not a problem."
      ],
      "metadata": {
        "id": "NaIK0OISu6lP"
      }
    },
    {
      "cell_type": "markdown",
      "source": [
        "**Linear Regression with Polynomial Features**"
      ],
      "metadata": {
        "id": "JiMr19O1uDLY"
      }
    },
    {
      "cell_type": "code",
      "source": [
        "# Once we are dealing with non-linear data let's try a polynomial features transformation before train the model with a linear regression\n",
        "from sklearn.preprocessing import PolynomialFeatures\n",
        "poly_features = PolynomialFeatures(degree = 2, include_bias = False)"
      ],
      "metadata": {
        "id": "CGxQHF5psGeX"
      },
      "execution_count": 258,
      "outputs": []
    },
    {
      "cell_type": "code",
      "source": [
        "# Polynomial Features\n",
        "cars_pred_poly = poly_features.fit_transform(cars_train_pred)"
      ],
      "metadata": {
        "id": "7Op823FJ1oQl"
      },
      "execution_count": 259,
      "outputs": []
    },
    {
      "cell_type": "code",
      "source": [
        "# Train the Polynomial regression model\n",
        "lin_reg_poly = LinearRegression()\n",
        "lin_reg_poly.fit(cars_pred_poly, cars_values)\n"
      ],
      "metadata": {
        "colab": {
          "base_uri": "https://localhost:8080/"
        },
        "id": "eSY4Qq2j1Tl_",
        "outputId": "d36aba4c-236c-4547-d8dc-71e1410d06ac"
      },
      "execution_count": 260,
      "outputs": [
        {
          "output_type": "execute_result",
          "data": {
            "text/plain": [
              "LinearRegression()"
            ]
          },
          "metadata": {},
          "execution_count": 260
        }
      ]
    },
    {
      "cell_type": "code",
      "source": [
        "# polynomial transformation of some instances\n",
        "poly_instances = poly_features.fit_transform(some_instances_prepared)"
      ],
      "metadata": {
        "id": "i2GiLY2uBmQk"
      },
      "execution_count": 261,
      "outputs": []
    },
    {
      "cell_type": "code",
      "source": [
        "lin_reg_poly_predictions = lin_reg_poly.predict(poly_instances)\n",
        "print(lin_reg_poly_predictions)"
      ],
      "metadata": {
        "id": "nN9UuF5_CYyO",
        "colab": {
          "base_uri": "https://localhost:8080/"
        },
        "outputId": "8e6753c8-30cc-4f28-9f4f-d6d18b462055"
      },
      "execution_count": 306,
      "outputs": [
        {
          "output_type": "stream",
          "name": "stdout",
          "text": [
            "[ 2.17888758 10.22039618  3.51323665  3.86006324 17.7457239 ]\n"
          ]
        }
      ]
    },
    {
      "cell_type": "code",
      "source": [
        "# comparing the actual values with the predictions and polynomial predictions\n",
        "df1 = pd.DataFrame({\n",
        "                    \"Actual_values\": some_values,\n",
        "                    \"Lin_Reg_predict\": lin_reg_predictions,\n",
        "                    \"Lin_Reg_Poly_predict\": lin_reg_poly_predictions\n",
        "                    })\n",
        "print(df1)"
      ],
      "metadata": {
        "colab": {
          "base_uri": "https://localhost:8080/"
        },
        "id": "NwXDja2iCrQx",
        "outputId": "4c5eb66d-5a88-4b70-bf27-2a3d7ed20688"
      },
      "execution_count": 307,
      "outputs": [
        {
          "output_type": "stream",
          "name": "stdout",
          "text": [
            "   Actual_values  Lin_Reg_predict  Lin_Reg_Poly_predict\n",
            "0           1.75        -2.329080              2.178888\n",
            "1          12.50        12.855394             10.220396\n",
            "2           4.50         2.390066              3.513237\n",
            "3           6.00         2.934667              3.860063\n",
            "4          17.74        17.819564             17.745724\n"
          ]
        }
      ]
    },
    {
      "cell_type": "code",
      "source": [
        "# The performance of lin_reg_poly on the training set\n",
        "lin_reg_poly_predictions = lin_reg_poly.predict(cars_pred_poly)"
      ],
      "metadata": {
        "id": "7c3LsR9s15Ao"
      },
      "execution_count": 264,
      "outputs": []
    },
    {
      "cell_type": "code",
      "source": [
        "lin_poly_mse = mean_squared_error(cars_values, lin_reg_poly_predictions)\n",
        "lin_poly_rmse = np.sqrt(lin_poly_mse)\n",
        "lin_poly_rmse"
      ],
      "metadata": {
        "colab": {
          "base_uri": "https://localhost:8080/"
        },
        "id": "6W097fTu2Jfs",
        "outputId": "9b3b2711-ebc2-4c40-8b65-e21bee6a146d"
      },
      "execution_count": 265,
      "outputs": [
        {
          "output_type": "execute_result",
          "data": {
            "text/plain": [
              "4.032339279568432"
            ]
          },
          "metadata": {},
          "execution_count": 265
        }
      ]
    },
    {
      "cell_type": "code",
      "source": [
        "# Check the performance of the model by cross-validation\n",
        "poly_scores = cross_val_score(lin_reg, cars_pred_poly, cars_values, cv = 10,\n",
        "                         scoring = \"neg_mean_squared_error\")\n",
        "\n",
        "poly_reg_rmse = np.sqrt(-poly_scores)"
      ],
      "metadata": {
        "id": "V3VCON69s8Fq"
      },
      "execution_count": 266,
      "outputs": []
    },
    {
      "cell_type": "code",
      "source": [
        "display_scores(poly_reg_rmse)"
      ],
      "metadata": {
        "id": "wj6_xvvateD0",
        "colab": {
          "base_uri": "https://localhost:8080/"
        },
        "outputId": "994de8ac-f296-4c81-a2d9-9c5c2c21301e"
      },
      "execution_count": 267,
      "outputs": [
        {
          "output_type": "stream",
          "name": "stdout",
          "text": [
            "Scores: [ 4.37524487  4.2471804   4.3698405  45.51332205  3.90406501  4.66549917\n",
            "  5.68734163  3.81986055  3.80550767  4.64574648]\n",
            "Mean: 8.503360833144214\n",
            "Standard Deviation: 12.347787206960177\n"
          ]
        }
      ]
    },
    {
      "cell_type": "markdown",
      "source": [
        "**Support Vector Machine**"
      ],
      "metadata": {
        "id": "DXgZeGSv5QEj"
      }
    },
    {
      "cell_type": "code",
      "source": [
        "# once we suspect the data are not linear we are going to use SVR\n",
        "\n",
        "# let's find the most appropriate values to the hyperparameters by means of GRID SEARCH\n",
        "from sklearn.model_selection import GridSearchCV\n",
        "from sklearn.svm import SVR\n",
        "\n",
        "param_grid = [\n",
        "              {'degree':[2,3,5,7,9],\n",
        "               'C': [0.01, 0.1, 1, 10, 100],\n",
        "               'epsilon': [1, 1.5, 2, 2.5, 3, 5, 7]}\n",
        "]\n",
        "\n",
        "svm_poly_reg = SVR()\n",
        "grid_search = GridSearchCV(svm_poly_reg, param_grid, cv = 10,\n",
        "                           scoring = \"neg_mean_squared_error\",\n",
        "                           return_train_score=True)\n",
        "\n",
        "grid_search.fit(cars_train_pred, cars_values)\n",
        "\n",
        "grid_search.best_params_"
      ],
      "metadata": {
        "id": "9kwh0C4rbHSk",
        "colab": {
          "base_uri": "https://localhost:8080/"
        },
        "outputId": "846a6f2b-2577-420e-e3aa-7d8e7da40201"
      },
      "execution_count": null,
      "outputs": [
        {
          "output_type": "execute_result",
          "data": {
            "text/plain": [
              "{'C': 100, 'degree': 2, 'epsilon': 1.5}"
            ]
          },
          "metadata": {},
          "execution_count": 116
        }
      ]
    },
    {
      "cell_type": "code",
      "source": [
        "# SVM performance on the training set\n",
        "from sklearn.svm import SVR\n",
        "svm_poly_reg = SVR(kernel = 'poly', degree = 2,\n",
        "                   epsilon = 1.5, C = 100)\n",
        "svm_poly_reg.fit(cars_train_pred, cars_values) "
      ],
      "metadata": {
        "id": "FrAMEgFHsl7g",
        "colab": {
          "base_uri": "https://localhost:8080/"
        },
        "outputId": "b7fb9c23-2cce-405e-b922-907861b00911"
      },
      "execution_count": 309,
      "outputs": [
        {
          "output_type": "execute_result",
          "data": {
            "text/plain": [
              "SVR(C=100, degree=2, epsilon=1.5, kernel='poly')"
            ]
          },
          "metadata": {},
          "execution_count": 309
        }
      ]
    },
    {
      "cell_type": "code",
      "source": [
        "svm_reg_predict = svm_poly_reg.predict(some_instances_prepared)\n",
        "print(svm_reg_predict)"
      ],
      "metadata": {
        "id": "LBuWKZ0CIiRf",
        "colab": {
          "base_uri": "https://localhost:8080/"
        },
        "outputId": "87ea3c03-13ff-498d-dbe1-7dd78215b8f0"
      },
      "execution_count": 310,
      "outputs": [
        {
          "output_type": "stream",
          "name": "stdout",
          "text": [
            "[ 3.00948763 10.03524057  3.61632329  4.49984696 16.99511609]\n"
          ]
        }
      ]
    },
    {
      "cell_type": "code",
      "source": [
        "# comparing the actual values with the predictions\n",
        "df1 = pd.DataFrame({\n",
        "                    \"Actual_values\": some_values,\n",
        "                    \"Lin_Reg_predict\": lin_reg_predictions,\n",
        "                    \"Lin_Reg_Poly_predict\": lin_reg_poly_predictions,\n",
        "                    \"SVM_poly_predict\": svm_reg_predict})\n",
        "print(df1)"
      ],
      "metadata": {
        "id": "TCajWQCFJCdZ",
        "colab": {
          "base_uri": "https://localhost:8080/"
        },
        "outputId": "b1cf6b59-1988-4833-cca8-084ffb8e2b21"
      },
      "execution_count": 311,
      "outputs": [
        {
          "output_type": "stream",
          "name": "stdout",
          "text": [
            "   Actual_values  Lin_Reg_predict  Lin_Reg_Poly_predict  SVM_poly_predict\n",
            "0           1.75        -2.329080              2.178888          3.009488\n",
            "1          12.50        12.855394             10.220396         10.035241\n",
            "2           4.50         2.390066              3.513237          3.616323\n",
            "3           6.00         2.934667              3.860063          4.499847\n",
            "4          17.74        17.819564             17.745724         16.995116\n"
          ]
        }
      ]
    },
    {
      "cell_type": "code",
      "source": [
        "# The performance on the training set\n",
        "svm_predictions = svm_poly_reg.predict(cars_train_pred)"
      ],
      "metadata": {
        "id": "KDkBzREstZt3"
      },
      "execution_count": 312,
      "outputs": []
    },
    {
      "cell_type": "code",
      "source": [
        "svm_poly_mse = mean_squared_error(cars_values, svm_predictions)\n",
        "svm_poly_rmse = np.sqrt(lin_poly_mse)\n",
        "svm_poly_rmse"
      ],
      "metadata": {
        "id": "zwkaLTX7tkdQ",
        "colab": {
          "base_uri": "https://localhost:8080/"
        },
        "outputId": "e14bf18b-2f0a-4ecc-81fb-28cbd84e07dc"
      },
      "execution_count": 313,
      "outputs": [
        {
          "output_type": "execute_result",
          "data": {
            "text/plain": [
              "4.032339279568432"
            ]
          },
          "metadata": {},
          "execution_count": 313
        }
      ]
    },
    {
      "cell_type": "code",
      "source": [
        "# check the performance with cross-validation\n",
        "from sklearn.svm import LinearSVR\n",
        "svm_poly_reg = SVR(kernel = 'poly', degree = 2, epsilon = 1.5, C = 100)\n",
        "\n",
        "scores = cross_val_score(svm_poly_reg, cars_train_pred, cars_values, cv = 10,\n",
        "                         scoring = \"neg_mean_squared_error\")\n",
        "\n",
        "svm_rmse = np.sqrt(-scores)\n",
        "\n",
        "display_scores(svm_rmse)"
      ],
      "metadata": {
        "id": "V2RKSvr8qM3P",
        "colab": {
          "base_uri": "https://localhost:8080/"
        },
        "outputId": "a6559d3d-b808-4c79-a9eb-2053ee46f1ca"
      },
      "execution_count": 282,
      "outputs": [
        {
          "output_type": "stream",
          "name": "stdout",
          "text": [
            "Scores: [ 4.39975968  4.33342591  4.47928951 67.09140159  3.98471351  4.31143272\n",
            "  5.68015868  3.5157416   3.86903802  4.6596912 ]\n",
            "Mean: 10.632465242199466\n",
            "Standard Deviation: 18.827471174132754\n"
          ]
        }
      ]
    },
    {
      "cell_type": "markdown",
      "source": [
        "**Decision Tree**"
      ],
      "metadata": {
        "id": "WZ2AIWWewHt6"
      }
    },
    {
      "cell_type": "code",
      "source": [
        "# let's find the most appropriate values to the hyperparameters by means of GRID SEARCH\n",
        "\n",
        "from sklearn.tree import DecisionTreeRegressor\n",
        "from sklearn.model_selection import GridSearchCV\n",
        "param_grid = [\n",
        "              {\"max_depth\":[1, 3, 5, 7, 9, 11]}\n",
        "]\n",
        "\n",
        "tree_reg = DecisionTreeRegressor()\n",
        "grid_search = GridSearchCV(tree_reg, param_grid, cv = 10,\n",
        "                           scoring = \"neg_mean_squared_error\",\n",
        "                           return_train_score=True)\n",
        "\n",
        "grid_search.fit(cars_train_pred, cars_values)\n",
        "\n",
        "grid_search.best_params_"
      ],
      "metadata": {
        "id": "J7j04lkRv-8s",
        "colab": {
          "base_uri": "https://localhost:8080/"
        },
        "outputId": "facb5d25-aacc-4c37-c194-7bd23917f426"
      },
      "execution_count": 314,
      "outputs": [
        {
          "output_type": "execute_result",
          "data": {
            "text/plain": [
              "{'max_depth': 7}"
            ]
          },
          "metadata": {},
          "execution_count": 314
        }
      ]
    },
    {
      "cell_type": "code",
      "source": [
        "# training the model\n",
        "tree_reg = DecisionTreeRegressor(max_depth=7, random_state=42)\n",
        "tree_reg.fit(cars_train_pred, cars_values)"
      ],
      "metadata": {
        "id": "oEaLo9wTw5Zw",
        "colab": {
          "base_uri": "https://localhost:8080/"
        },
        "outputId": "c41e711d-469e-40c0-96c3-ca33902a794a"
      },
      "execution_count": 315,
      "outputs": [
        {
          "output_type": "execute_result",
          "data": {
            "text/plain": [
              "DecisionTreeRegressor(max_depth=7, random_state=42)"
            ]
          },
          "metadata": {},
          "execution_count": 315
        }
      ]
    },
    {
      "cell_type": "code",
      "source": [
        "tree_reg_predict = tree_reg.predict(some_instances_prepared)\n",
        "print(tree_reg_predict)"
      ],
      "metadata": {
        "id": "gc0FHWWyLiuG",
        "colab": {
          "base_uri": "https://localhost:8080/"
        },
        "outputId": "d149dc59-5e8c-42ae-df4a-158599365e42"
      },
      "execution_count": 316,
      "outputs": [
        {
          "output_type": "stream",
          "name": "stdout",
          "text": [
            "[ 2.42888383  7.24868421  3.69445455  4.88283871 13.95916667]\n"
          ]
        }
      ]
    },
    {
      "cell_type": "code",
      "source": [
        "df1 = pd.DataFrame({\n",
        "                    \"Actual_values\": some_values,\n",
        "                    \"Lin_Reg_predict\": lin_reg_predictions,\n",
        "                    \"Lin_Reg_Poly_predict\": lin_reg_poly_predictions,\n",
        "                    \"SVM_poly_predict\": svm_reg_predict,\n",
        "                    \"Tree_reg_predict\": tree_reg_predict\n",
        "                    })\n",
        "print(df1)"
      ],
      "metadata": {
        "id": "iahBb0WULtPn",
        "colab": {
          "base_uri": "https://localhost:8080/"
        },
        "outputId": "668aeba1-9b32-4aa2-e13b-7a96b0511331"
      },
      "execution_count": 317,
      "outputs": [
        {
          "output_type": "stream",
          "name": "stdout",
          "text": [
            "   Actual_values  Lin_Reg_predict  ...  SVM_poly_predict  Tree_reg_predict\n",
            "0           1.75        -2.329080  ...          3.009488          2.428884\n",
            "1          12.50        12.855394  ...         10.035241          7.248684\n",
            "2           4.50         2.390066  ...          3.616323          3.694455\n",
            "3           6.00         2.934667  ...          4.499847          4.882839\n",
            "4          17.74        17.819564  ...         16.995116         13.959167\n",
            "\n",
            "[5 rows x 5 columns]\n"
          ]
        }
      ]
    },
    {
      "cell_type": "code",
      "source": [
        "# The performance on the training set\n",
        "tree_predictions = tree_reg.predict(cars_train_pred)"
      ],
      "metadata": {
        "id": "RpIdKMc_rEO-"
      },
      "execution_count": 318,
      "outputs": []
    },
    {
      "cell_type": "code",
      "source": [
        "from sklearn.metrics import mean_squared_error\n",
        "tree_mse = mean_squared_error(cars_values, tree_predictions)\n",
        "tree_rmse = np.sqrt(tree_mse)\n",
        "tree_rmse"
      ],
      "metadata": {
        "id": "82Vtv_uurX1D",
        "colab": {
          "base_uri": "https://localhost:8080/"
        },
        "outputId": "f49fbf39-d825-4df6-a3d6-b001b04bdd2c"
      },
      "execution_count": 319,
      "outputs": [
        {
          "output_type": "execute_result",
          "data": {
            "text/plain": [
              "3.395254248569031"
            ]
          },
          "metadata": {},
          "execution_count": 319
        }
      ]
    },
    {
      "cell_type": "code",
      "source": [
        "# the performance with cross validation\n",
        "tree_scores = cross_val_score(tree_reg, cars_train_pred, cars_values, cv = 10,\n",
        "                         scoring = \"neg_mean_squared_error\")\n",
        "\n",
        "tree_rmse = np.sqrt(-tree_scores)"
      ],
      "metadata": {
        "id": "iMvvDAa_xFKZ"
      },
      "execution_count": 320,
      "outputs": []
    },
    {
      "cell_type": "code",
      "source": [
        "display_scores(tree_rmse)"
      ],
      "metadata": {
        "id": "B30djmhKxOv6",
        "colab": {
          "base_uri": "https://localhost:8080/"
        },
        "outputId": "dc3c65ff-81b1-49e8-dd06-d768ac11489d"
      },
      "execution_count": null,
      "outputs": [
        {
          "output_type": "stream",
          "name": "stdout",
          "text": [
            "Scores: [4.7506218  5.00297233 4.77380478 4.65435922 4.01995213 4.74300037\n",
            " 5.63754282 5.7762297  6.29056684 5.79685133]\n",
            "Mean: 5.144590130691052\n",
            "Standard Deviation: 0.6602906873732709\n"
          ]
        }
      ]
    },
    {
      "cell_type": "markdown",
      "source": [
        "**KNN**"
      ],
      "metadata": {
        "id": "IsdMg12Sxt1z"
      }
    },
    {
      "cell_type": "code",
      "source": [
        "from sklearn.neighbors import KNeighborsRegressor\n",
        "param_grid = [\n",
        "              {\"n_neighbors\":[1, 2, 4, 6, 8, 10]}\n",
        "]\n",
        "\n",
        "knn_reg = KNeighborsRegressor()\n",
        "grid_search = GridSearchCV(knn_reg, param_grid, cv = 10,\n",
        "                           scoring = \"neg_mean_squared_error\",\n",
        "                           return_train_score=True)\n",
        "\n",
        "grid_search.fit(cars_train_pred, cars_values)\n",
        "\n",
        "grid_search.best_params_"
      ],
      "metadata": {
        "id": "1_2M3RStxyN6",
        "colab": {
          "base_uri": "https://localhost:8080/"
        },
        "outputId": "a9920f76-258f-4736-aab0-787f96968d90"
      },
      "execution_count": 321,
      "outputs": [
        {
          "output_type": "execute_result",
          "data": {
            "text/plain": [
              "{'n_neighbors': 10}"
            ]
          },
          "metadata": {},
          "execution_count": 321
        }
      ]
    },
    {
      "cell_type": "code",
      "source": [
        "# train the model\n",
        "knn_reg = KNeighborsRegressor(n_neighbors=10)\n",
        "knn_reg.fit(cars_train_pred, cars_values)"
      ],
      "metadata": {
        "id": "mY2j5tAQyu0i",
        "colab": {
          "base_uri": "https://localhost:8080/"
        },
        "outputId": "a1957164-bd53-475b-c1d2-ac479f055ca8"
      },
      "execution_count": 322,
      "outputs": [
        {
          "output_type": "execute_result",
          "data": {
            "text/plain": [
              "KNeighborsRegressor(n_neighbors=10)"
            ]
          },
          "metadata": {},
          "execution_count": 322
        }
      ]
    },
    {
      "cell_type": "code",
      "source": [
        "#Let's do some predictions\n",
        "knn_reg_predict = knn_reg.predict(some_instances_prepared)\n",
        "print(tree_reg_predict)"
      ],
      "metadata": {
        "id": "LRWXXYgLNsei",
        "colab": {
          "base_uri": "https://localhost:8080/"
        },
        "outputId": "de324a58-f161-45a3-fd2d-0104d0a52ce8"
      },
      "execution_count": 323,
      "outputs": [
        {
          "output_type": "stream",
          "name": "stdout",
          "text": [
            "[ 2.42888383  7.24868421  3.69445455  4.88283871 13.95916667]\n"
          ]
        }
      ]
    },
    {
      "cell_type": "code",
      "source": [
        "df1 = pd.DataFrame({\n",
        "                    \"Actual_values\": some_values,\n",
        "                    \"Lin_Reg_predict\": lin_reg_predictions,\n",
        "                    \"Lin_Reg_Poly_predict\": lin_reg_poly_predictions,\n",
        "                    \"SVM_poly_predict\":svm_reg_predict,\n",
        "                    \"Tree_reg_predict\": tree_reg_predict,\n",
        "                    \"knn_reg_predict\":knn_reg_predict\n",
        "                    })\n",
        "print(df1)"
      ],
      "metadata": {
        "id": "33Xa_VJqOIhI",
        "colab": {
          "base_uri": "https://localhost:8080/"
        },
        "outputId": "6dc9377c-fe30-4089-8fb8-ae547a339f7b"
      },
      "execution_count": 324,
      "outputs": [
        {
          "output_type": "stream",
          "name": "stdout",
          "text": [
            "   Actual_values  Lin_Reg_predict  ...  Tree_reg_predict  knn_reg_predict\n",
            "0           1.75        -2.329080  ...          2.428884            2.602\n",
            "1          12.50        12.855394  ...          7.248684           10.571\n",
            "2           4.50         2.390066  ...          3.694455            3.764\n",
            "3           6.00         2.934667  ...          4.882839            6.425\n",
            "4          17.74        17.819564  ...         13.959167           19.996\n",
            "\n",
            "[5 rows x 6 columns]\n"
          ]
        }
      ]
    },
    {
      "cell_type": "code",
      "source": [
        "# The performance on the training set\n",
        "knn_predictions = knn_reg.predict(cars_train_pred)"
      ],
      "metadata": {
        "id": "6mv4jH-sOUZf"
      },
      "execution_count": null,
      "outputs": []
    },
    {
      "cell_type": "code",
      "source": [
        "knn_mse = mean_squared_error(cars_values, knn_predictions)\n",
        "knn_rmse = np.sqrt(knn_mse)\n",
        "knn_rmse"
      ],
      "metadata": {
        "id": "WjEKM-ZzOco5",
        "colab": {
          "base_uri": "https://localhost:8080/"
        },
        "outputId": "b4a87c8a-2b7b-40a7-d399-96541a4bedd2"
      },
      "execution_count": null,
      "outputs": [
        {
          "output_type": "execute_result",
          "data": {
            "text/plain": [
              "4.194397572775409"
            ]
          },
          "metadata": {},
          "execution_count": 138
        }
      ]
    },
    {
      "cell_type": "code",
      "source": [
        "# the performance with cross validation\n",
        "knn_scores = cross_val_score(knn_reg, cars_train_pred, cars_values, cv = 10,\n",
        "                         scoring = \"neg_mean_squared_error\")\n",
        "\n",
        "knn_rmse = np.sqrt(-knn_scores)"
      ],
      "metadata": {
        "id": "kastV6mey8Hz"
      },
      "execution_count": null,
      "outputs": []
    },
    {
      "cell_type": "code",
      "source": [
        "display_scores(knn_rmse)"
      ],
      "metadata": {
        "id": "hIwrexbkzOlf",
        "colab": {
          "base_uri": "https://localhost:8080/"
        },
        "outputId": "0c5635ec-e03e-4b51-ade6-b523084ab296"
      },
      "execution_count": null,
      "outputs": [
        {
          "output_type": "stream",
          "name": "stdout",
          "text": [
            "Scores: [4.84513472 4.22413896 4.56001804 5.5284974  3.87506568 4.83468593\n",
            " 5.28560252 4.03766724 4.3269348  5.57399262]\n",
            "Mean: 4.709173791912194\n",
            "Standard Deviation: 0.5775795873030269\n"
          ]
        }
      ]
    },
    {
      "cell_type": "code",
      "source": [
        "compare_algorit = pd.DataFrame(\n",
        "    {'Algoritms':['Linear_Reg', 'SVM',\n",
        "                   'Dec.Tree', 'Knn'],\n",
        "     'Performance': [lin_reg_rmse.mean(),\n",
        "                     svm_rmse.mean(),\n",
        "                     tree_rmse.mean(),\n",
        "                     knn_rmse.mean()]}).sort_index()\n",
        "\n",
        "compare_algorit"
      ],
      "metadata": {
        "id": "Bu7VKrYvzWOh",
        "colab": {
          "base_uri": "https://localhost:8080/",
          "height": 175
        },
        "outputId": "933e2fd1-871a-492d-e74e-f307bb9f7bf7"
      },
      "execution_count": null,
      "outputs": [
        {
          "output_type": "execute_result",
          "data": {
            "text/html": [
              "\n",
              "  <div id=\"df-fb982062-90b5-4508-b916-d8c8b1cda846\">\n",
              "    <div class=\"colab-df-container\">\n",
              "      <div>\n",
              "<style scoped>\n",
              "    .dataframe tbody tr th:only-of-type {\n",
              "        vertical-align: middle;\n",
              "    }\n",
              "\n",
              "    .dataframe tbody tr th {\n",
              "        vertical-align: top;\n",
              "    }\n",
              "\n",
              "    .dataframe thead th {\n",
              "        text-align: right;\n",
              "    }\n",
              "</style>\n",
              "<table border=\"1\" class=\"dataframe\">\n",
              "  <thead>\n",
              "    <tr style=\"text-align: right;\">\n",
              "      <th></th>\n",
              "      <th>Algoritms</th>\n",
              "      <th>Performance</th>\n",
              "    </tr>\n",
              "  </thead>\n",
              "  <tbody>\n",
              "    <tr>\n",
              "      <th>0</th>\n",
              "      <td>Linear_Reg</td>\n",
              "      <td>6.538069</td>\n",
              "    </tr>\n",
              "    <tr>\n",
              "      <th>1</th>\n",
              "      <td>SVM</td>\n",
              "      <td>10.632465</td>\n",
              "    </tr>\n",
              "    <tr>\n",
              "      <th>2</th>\n",
              "      <td>Dec.Tree</td>\n",
              "      <td>5.144590</td>\n",
              "    </tr>\n",
              "    <tr>\n",
              "      <th>3</th>\n",
              "      <td>Knn</td>\n",
              "      <td>4.709174</td>\n",
              "    </tr>\n",
              "  </tbody>\n",
              "</table>\n",
              "</div>\n",
              "      <button class=\"colab-df-convert\" onclick=\"convertToInteractive('df-fb982062-90b5-4508-b916-d8c8b1cda846')\"\n",
              "              title=\"Convert this dataframe to an interactive table.\"\n",
              "              style=\"display:none;\">\n",
              "        \n",
              "  <svg xmlns=\"http://www.w3.org/2000/svg\" height=\"24px\"viewBox=\"0 0 24 24\"\n",
              "       width=\"24px\">\n",
              "    <path d=\"M0 0h24v24H0V0z\" fill=\"none\"/>\n",
              "    <path d=\"M18.56 5.44l.94 2.06.94-2.06 2.06-.94-2.06-.94-.94-2.06-.94 2.06-2.06.94zm-11 1L8.5 8.5l.94-2.06 2.06-.94-2.06-.94L8.5 2.5l-.94 2.06-2.06.94zm10 10l.94 2.06.94-2.06 2.06-.94-2.06-.94-.94-2.06-.94 2.06-2.06.94z\"/><path d=\"M17.41 7.96l-1.37-1.37c-.4-.4-.92-.59-1.43-.59-.52 0-1.04.2-1.43.59L10.3 9.45l-7.72 7.72c-.78.78-.78 2.05 0 2.83L4 21.41c.39.39.9.59 1.41.59.51 0 1.02-.2 1.41-.59l7.78-7.78 2.81-2.81c.8-.78.8-2.07 0-2.86zM5.41 20L4 18.59l7.72-7.72 1.47 1.35L5.41 20z\"/>\n",
              "  </svg>\n",
              "      </button>\n",
              "      \n",
              "  <style>\n",
              "    .colab-df-container {\n",
              "      display:flex;\n",
              "      flex-wrap:wrap;\n",
              "      gap: 12px;\n",
              "    }\n",
              "\n",
              "    .colab-df-convert {\n",
              "      background-color: #E8F0FE;\n",
              "      border: none;\n",
              "      border-radius: 50%;\n",
              "      cursor: pointer;\n",
              "      display: none;\n",
              "      fill: #1967D2;\n",
              "      height: 32px;\n",
              "      padding: 0 0 0 0;\n",
              "      width: 32px;\n",
              "    }\n",
              "\n",
              "    .colab-df-convert:hover {\n",
              "      background-color: #E2EBFA;\n",
              "      box-shadow: 0px 1px 2px rgba(60, 64, 67, 0.3), 0px 1px 3px 1px rgba(60, 64, 67, 0.15);\n",
              "      fill: #174EA6;\n",
              "    }\n",
              "\n",
              "    [theme=dark] .colab-df-convert {\n",
              "      background-color: #3B4455;\n",
              "      fill: #D2E3FC;\n",
              "    }\n",
              "\n",
              "    [theme=dark] .colab-df-convert:hover {\n",
              "      background-color: #434B5C;\n",
              "      box-shadow: 0px 1px 3px 1px rgba(0, 0, 0, 0.15);\n",
              "      filter: drop-shadow(0px 1px 2px rgba(0, 0, 0, 0.3));\n",
              "      fill: #FFFFFF;\n",
              "    }\n",
              "  </style>\n",
              "\n",
              "      <script>\n",
              "        const buttonEl =\n",
              "          document.querySelector('#df-fb982062-90b5-4508-b916-d8c8b1cda846 button.colab-df-convert');\n",
              "        buttonEl.style.display =\n",
              "          google.colab.kernel.accessAllowed ? 'block' : 'none';\n",
              "\n",
              "        async function convertToInteractive(key) {\n",
              "          const element = document.querySelector('#df-fb982062-90b5-4508-b916-d8c8b1cda846');\n",
              "          const dataTable =\n",
              "            await google.colab.kernel.invokeFunction('convertToInteractive',\n",
              "                                                     [key], {});\n",
              "          if (!dataTable) return;\n",
              "\n",
              "          const docLinkHtml = 'Like what you see? Visit the ' +\n",
              "            '<a target=\"_blank\" href=https://colab.research.google.com/notebooks/data_table.ipynb>data table notebook</a>'\n",
              "            + ' to learn more about interactive tables.';\n",
              "          element.innerHTML = '';\n",
              "          dataTable['output_type'] = 'display_data';\n",
              "          await google.colab.output.renderOutput(dataTable, element);\n",
              "          const docLink = document.createElement('div');\n",
              "          docLink.innerHTML = docLinkHtml;\n",
              "          element.appendChild(docLink);\n",
              "        }\n",
              "      </script>\n",
              "    </div>\n",
              "  </div>\n",
              "  "
            ],
            "text/plain": [
              "    Algoritms  Performance\n",
              "0  Linear_Reg     6.538069\n",
              "1         SVM    10.632465\n",
              "2    Dec.Tree     5.144590\n",
              "3         Knn     4.709174"
            ]
          },
          "metadata": {},
          "execution_count": 141
        }
      ]
    },
    {
      "cell_type": "markdown",
      "source": [
        "Once we find the algoritm with the best performance, it is time to clean the test set and make the predictions"
      ],
      "metadata": {
        "id": "krgYwPGgtuA2"
      }
    },
    {
      "cell_type": "code",
      "source": [
        "cars_test = pd.read_csv('test-data.csv', index_col = 0)\n",
        "print(cars_test.head())"
      ],
      "metadata": {
        "colab": {
          "base_uri": "https://localhost:8080/"
        },
        "id": "aTZMW9t_QsaS",
        "outputId": "c3de73c4-fa81-4f39-d3f4-4f5537364e05"
      },
      "execution_count": 325,
      "outputs": [
        {
          "output_type": "stream",
          "name": "stdout",
          "text": [
            "                                        Name    Location  ...  Seats   New_Price\n",
            "0                    Maruti Alto K10 LXI CNG       Delhi  ...    4.0         NaN\n",
            "1              Maruti Alto 800 2016-2019 LXI  Coimbatore  ...    5.0         NaN\n",
            "2  Toyota Innova Crysta Touring Sport 2.4 MT      Mumbai  ...    7.0  25.27 Lakh\n",
            "3                       Toyota Etios Liva GD   Hyderabad  ...    5.0         NaN\n",
            "4                          Hyundai i20 Magna      Mumbai  ...    5.0         NaN\n",
            "\n",
            "[5 rows x 12 columns]\n"
          ]
        }
      ]
    },
    {
      "cell_type": "code",
      "source": [
        "cars_test.info()"
      ],
      "metadata": {
        "colab": {
          "base_uri": "https://localhost:8080/"
        },
        "id": "bU3a4WEmRChK",
        "outputId": "10dca61a-518d-4a36-fc45-71fca7564b7d"
      },
      "execution_count": 326,
      "outputs": [
        {
          "output_type": "stream",
          "name": "stdout",
          "text": [
            "<class 'pandas.core.frame.DataFrame'>\n",
            "Int64Index: 1234 entries, 0 to 1233\n",
            "Data columns (total 12 columns):\n",
            " #   Column             Non-Null Count  Dtype  \n",
            "---  ------             --------------  -----  \n",
            " 0   Name               1234 non-null   object \n",
            " 1   Location           1234 non-null   object \n",
            " 2   Year               1234 non-null   int64  \n",
            " 3   Kilometers_Driven  1234 non-null   int64  \n",
            " 4   Fuel_Type          1234 non-null   object \n",
            " 5   Transmission       1234 non-null   object \n",
            " 6   Owner_Type         1234 non-null   object \n",
            " 7   Mileage            1234 non-null   object \n",
            " 8   Engine             1224 non-null   object \n",
            " 9   Power              1224 non-null   object \n",
            " 10  Seats              1223 non-null   float64\n",
            " 11  New_Price          182 non-null    object \n",
            "dtypes: float64(1), int64(2), object(9)\n",
            "memory usage: 125.3+ KB\n"
          ]
        }
      ]
    },
    {
      "cell_type": "code",
      "source": [
        "# Transforming the dataset just like we did to train set ..."
      ],
      "metadata": {
        "id": "Lku6yw81ZRE2"
      },
      "execution_count": null,
      "outputs": []
    },
    {
      "cell_type": "code",
      "source": [
        "cars_test.drop(['Name', 'New_Price'], axis=1, inplace = True)"
      ],
      "metadata": {
        "id": "we0dEb6qRH1i"
      },
      "execution_count": null,
      "outputs": []
    },
    {
      "cell_type": "code",
      "source": [
        "cars_test.rename(columns=str.lower, inplace =True)"
      ],
      "metadata": {
        "id": "WfysW1m9Rr8s"
      },
      "execution_count": null,
      "outputs": []
    },
    {
      "cell_type": "code",
      "source": [
        "# Fuel_type\n",
        "cars_test['fuel_type'].value_counts()"
      ],
      "metadata": {
        "colab": {
          "base_uri": "https://localhost:8080/"
        },
        "id": "MRCjP_RGRRla",
        "outputId": "0c79363f-c38b-47b5-ecc4-f892be9365bb"
      },
      "execution_count": null,
      "outputs": [
        {
          "output_type": "execute_result",
          "data": {
            "text/plain": [
              "Diesel    647\n",
              "Petrol    579\n",
              "CNG         6\n",
              "LPG         2\n",
              "Name: fuel_type, dtype: int64"
            ]
          },
          "metadata": {},
          "execution_count": 150
        }
      ]
    },
    {
      "cell_type": "code",
      "source": [
        "values = ['CNG', 'LPG']\n",
        "cars_test.loc[cars_test['fuel_type'].isin(values),'fuel_type'] = 'Gas'"
      ],
      "metadata": {
        "id": "tbOrds7WRvCT"
      },
      "execution_count": null,
      "outputs": []
    },
    {
      "cell_type": "code",
      "source": [
        "cars_test['fuel_type'].value_counts()"
      ],
      "metadata": {
        "colab": {
          "base_uri": "https://localhost:8080/"
        },
        "id": "_0V71Rg_Rgmp",
        "outputId": "cf124c62-1fd1-44ec-8bd8-0855ad25ebf0"
      },
      "execution_count": null,
      "outputs": [
        {
          "output_type": "execute_result",
          "data": {
            "text/plain": [
              "Diesel    647\n",
              "Petrol    579\n",
              "Gas         8\n",
              "Name: fuel_type, dtype: int64"
            ]
          },
          "metadata": {},
          "execution_count": 153
        }
      ]
    },
    {
      "cell_type": "code",
      "source": [
        "# Owner type\n",
        "cars_test['owner_type'].value_counts()"
      ],
      "metadata": {
        "colab": {
          "base_uri": "https://localhost:8080/"
        },
        "id": "LuUafnAYSKJC",
        "outputId": "5ff366c4-8e95-492a-d5c2-c9ee8589aeb5"
      },
      "execution_count": null,
      "outputs": [
        {
          "output_type": "execute_result",
          "data": {
            "text/plain": [
              "First             1023\n",
              "Second             184\n",
              "Third               24\n",
              "Fourth & Above       3\n",
              "Name: owner_type, dtype: int64"
            ]
          },
          "metadata": {},
          "execution_count": 155
        }
      ]
    },
    {
      "cell_type": "code",
      "source": [
        "values = ['Third', 'Fourth & Above']\n",
        "cars_test.loc[cars_test['owner_type'].isin(values), 'owner_type'] = 'Third & Above'\n",
        "cars_test['owner_type'].value_counts()"
      ],
      "metadata": {
        "colab": {
          "base_uri": "https://localhost:8080/"
        },
        "id": "cK8fk78YSVMZ",
        "outputId": "f2647a24-9355-4fdf-e5c7-b2da237157ca"
      },
      "execution_count": null,
      "outputs": [
        {
          "output_type": "execute_result",
          "data": {
            "text/plain": [
              "First            1023\n",
              "Second            184\n",
              "Third & Above      27\n",
              "Name: owner_type, dtype: int64"
            ]
          },
          "metadata": {},
          "execution_count": 180
        }
      ]
    },
    {
      "cell_type": "code",
      "source": [
        "# Mileage\n",
        "print(cars_test.mileage.head())"
      ],
      "metadata": {
        "colab": {
          "base_uri": "https://localhost:8080/"
        },
        "id": "afCAat68SpeC",
        "outputId": "0ef30268-197f-4df5-e038-b5873c4e52ad"
      },
      "execution_count": null,
      "outputs": [
        {
          "output_type": "stream",
          "name": "stdout",
          "text": [
            "0    32.26 km/kg\n",
            "1      24.7 kmpl\n",
            "2     13.68 kmpl\n",
            "3     23.59 kmpl\n",
            "4      18.5 kmpl\n",
            "Name: mileage, dtype: object\n"
          ]
        }
      ]
    },
    {
      "cell_type": "code",
      "source": [
        "suffix_kmkg = []\n",
        "suffix_kmpl = []\n",
        "other_suffix = []\n",
        "\n",
        "for index, row in cars_test.iterrows():\n",
        "  if str(row['mileage']).endswith('km/kg'):\n",
        "    suffix_kmkg.append(row['mileage'])\n",
        "  elif str(row['mileage']).endswith('kmpl'):\n",
        "    suffix_kmpl.append(row['mileage'])\n",
        "  else:\n",
        "    other_suffix.append(row['mileage'])\n",
        "\n",
        "print('Ends with km/kg: {}'.format(len(suffix_kmkg)))\n",
        "print('Ends with kmpl: {}'.format(len(suffix_kmpl)))\n",
        "print('Ends with others: {}'.format(len(other_suffix)))"
      ],
      "metadata": {
        "colab": {
          "base_uri": "https://localhost:8080/"
        },
        "id": "GAfW_syjSw45",
        "outputId": "819565a4-5f9a-47c2-81ac-f84cb3e821e0"
      },
      "execution_count": null,
      "outputs": [
        {
          "output_type": "stream",
          "name": "stdout",
          "text": [
            "Ends with km/kg: 8\n",
            "Ends with kmpl: 1226\n",
            "Ends with others: 0\n"
          ]
        }
      ]
    },
    {
      "cell_type": "code",
      "source": [
        "correct_mileage = []\n",
        "\n",
        "for i in cars_test.mileage:\n",
        "  if str(i).endswith('km/kg'):\n",
        "    i = i[:-6]\n",
        "    i = float(i)*1.40\n",
        "    correct_mileage.append(float(i))\n",
        "  elif str(i).endswith('kmpl'):\n",
        "    i = i[:-6]\n",
        "    correct_mileage.append(float(i))"
      ],
      "metadata": {
        "id": "OJ9UJsS0SvA8"
      },
      "execution_count": null,
      "outputs": []
    },
    {
      "cell_type": "code",
      "source": [
        "cars_test['mileage'] = correct_mileage"
      ],
      "metadata": {
        "id": "5eqRtp4UUA2M"
      },
      "execution_count": null,
      "outputs": []
    },
    {
      "cell_type": "code",
      "source": [
        "# engine and power\n",
        "vars_to_fix = ['engine', 'power']\n",
        "chars_to_remove = ['CC', 'bhp']\n",
        "\n",
        "for var in vars_to_fix:\n",
        "  for char in chars_to_remove:\n",
        "    cars_test[var] = cars_test[var].apply(lambda x:str(x).replace(char, ''))"
      ],
      "metadata": {
        "id": "UfiSKQDWUHxC"
      },
      "execution_count": null,
      "outputs": []
    },
    {
      "cell_type": "code",
      "source": [
        "cars_test['engine'].head()"
      ],
      "metadata": {
        "colab": {
          "base_uri": "https://localhost:8080/"
        },
        "id": "mceiTA_UWeVB",
        "outputId": "2b189c9b-60ce-427f-a2e3-546930cad37f"
      },
      "execution_count": null,
      "outputs": [
        {
          "output_type": "execute_result",
          "data": {
            "text/plain": [
              "0     998 \n",
              "1     796 \n",
              "2    2393 \n",
              "3    1364 \n",
              "4    1197 \n",
              "Name: engine, dtype: object"
            ]
          },
          "metadata": {},
          "execution_count": 184
        }
      ]
    },
    {
      "cell_type": "code",
      "source": [
        "cars_test['engine'] = cars_test['engine'].astype('float')"
      ],
      "metadata": {
        "id": "RBM5QpJlXXG-"
      },
      "execution_count": null,
      "outputs": []
    },
    {
      "cell_type": "code",
      "source": [
        "cars_test.loc[cars_test['power'] == 'null ', 'power'] = np.nan"
      ],
      "metadata": {
        "id": "pT-rWoUfXl8N"
      },
      "execution_count": null,
      "outputs": []
    },
    {
      "cell_type": "code",
      "source": [
        "cars_test['power'] = cars_test['power'].astype('float')"
      ],
      "metadata": {
        "id": "OaChiAreX7SS"
      },
      "execution_count": null,
      "outputs": []
    },
    {
      "cell_type": "markdown",
      "source": [
        "Transforming the data with full pipeline"
      ],
      "metadata": {
        "id": "xMCb6vdGapum"
      }
    },
    {
      "cell_type": "code",
      "source": [
        "cars_test_prepared = full_pipeline.transform(cars_test)"
      ],
      "metadata": {
        "id": "PHEwMBl_YB9z"
      },
      "execution_count": null,
      "outputs": []
    },
    {
      "cell_type": "markdown",
      "source": [
        "let's use the algorithm with the best performance to predict in the test set"
      ],
      "metadata": {
        "id": "wN6Gi1HYZiN6"
      }
    },
    {
      "cell_type": "code",
      "source": [
        "knn_reg_test_predictions = knn_reg.predict(cars_test_prepared)"
      ],
      "metadata": {
        "id": "vlTCVdAgYYT1"
      },
      "execution_count": null,
      "outputs": []
    },
    {
      "cell_type": "code",
      "source": [
        "print(knn_reg_test_predictions)"
      ],
      "metadata": {
        "colab": {
          "base_uri": "https://localhost:8080/"
        },
        "id": "QKiDnjlmZDnW",
        "outputId": "d6bd0e6c-1bf1-4934-c521-e194ea95935a"
      },
      "execution_count": null,
      "outputs": [
        {
          "output_type": "stream",
          "name": "stdout",
          "text": [
            "[ 3.315  3.409 11.071 ...  3.338  4.523 20.194]\n"
          ]
        }
      ]
    }
  ]
}